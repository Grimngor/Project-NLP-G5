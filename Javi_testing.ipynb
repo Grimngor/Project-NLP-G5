{
 "cells": [
  {
   "cell_type": "markdown",
   "metadata": {},
   "source": [
    "### Reference Notbooks\n",
    "4. Natural language Processing IV (Section 5.4 thne 5.6)\n",
    "4. NLP Exercise - do with student\n",
    "\n",
    "### Steps to Follow\n",
    "1. Try NaiveBayes classiffier first\n",
    "2. Data Cleaning, lemming, etc\n",
    "3. TFIDF\n",
    "5. Try Random Forest (or K-means with only 2 clases?)"
   ]
  },
  {
   "cell_type": "code",
   "execution_count": 2,
   "metadata": {},
   "outputs": [],
   "source": [
    "# Import necessary libraries\n",
    "import pandas as pd\n",
    "import string\n",
    "from nltk.tokenize import word_tokenize\n",
    "from nltk.corpus import stopwords, wordnet\n",
    "from nltk.stem import WordNetLemmatizer\n",
    "from sklearn.feature_extraction.text import TfidfVectorizer, CountVectorizer\n",
    "from sklearn.model_selection import train_test_split\n",
    "from sklearn.naive_bayes import MultinomialNB\n",
    "import matplotlib.pyplot as plt\n",
    "import seaborn as sns\n",
    "from sklearn.metrics import classification_report, confusion_matrix, accuracy_score"
   ]
  },
  {
   "cell_type": "code",
   "execution_count": 3,
   "metadata": {},
   "outputs": [
    {
     "data": {
      "text/html": [
       "<div>\n",
       "<style scoped>\n",
       "    .dataframe tbody tr th:only-of-type {\n",
       "        vertical-align: middle;\n",
       "    }\n",
       "\n",
       "    .dataframe tbody tr th {\n",
       "        vertical-align: top;\n",
       "    }\n",
       "\n",
       "    .dataframe thead th {\n",
       "        text-align: right;\n",
       "    }\n",
       "</style>\n",
       "<table border=\"1\" class=\"dataframe\">\n",
       "  <thead>\n",
       "    <tr style=\"text-align: right;\">\n",
       "      <th></th>\n",
       "      <th>tag</th>\n",
       "      <th>text</th>\n",
       "    </tr>\n",
       "  </thead>\n",
       "  <tbody>\n",
       "    <tr>\n",
       "      <th>0</th>\n",
       "      <td>0</td>\n",
       "      <td>donald trump sends out embarrassing new year‚s...</td>\n",
       "    </tr>\n",
       "    <tr>\n",
       "      <th>1</th>\n",
       "      <td>0</td>\n",
       "      <td>drunk bragging trump staffer started russian c...</td>\n",
       "    </tr>\n",
       "    <tr>\n",
       "      <th>2</th>\n",
       "      <td>0</td>\n",
       "      <td>sheriff david clarke becomes an internet joke ...</td>\n",
       "    </tr>\n",
       "    <tr>\n",
       "      <th>3</th>\n",
       "      <td>0</td>\n",
       "      <td>trump is so obsessed he even has obama‚s name ...</td>\n",
       "    </tr>\n",
       "    <tr>\n",
       "      <th>4</th>\n",
       "      <td>0</td>\n",
       "      <td>pope francis just called out donald trump duri...</td>\n",
       "    </tr>\n",
       "    <tr>\n",
       "      <th>5</th>\n",
       "      <td>0</td>\n",
       "      <td>racist alabama cops brutalize black boy while ...</td>\n",
       "    </tr>\n",
       "    <tr>\n",
       "      <th>6</th>\n",
       "      <td>0</td>\n",
       "      <td>fresh off the golf course</td>\n",
       "    </tr>\n",
       "    <tr>\n",
       "      <th>7</th>\n",
       "      <td>0</td>\n",
       "      <td>trump said some insanely racist stuff inside t...</td>\n",
       "    </tr>\n",
       "    <tr>\n",
       "      <th>8</th>\n",
       "      <td>0</td>\n",
       "      <td>former cia director slams trump over un bullying</td>\n",
       "    </tr>\n",
       "    <tr>\n",
       "      <th>9</th>\n",
       "      <td>0</td>\n",
       "      <td>brand-new pro-trump ad features so much a** ki...</td>\n",
       "    </tr>\n",
       "  </tbody>\n",
       "</table>\n",
       "</div>"
      ],
      "text/plain": [
       "   tag                                               text\n",
       "0    0  donald trump sends out embarrassing new year‚s...\n",
       "1    0  drunk bragging trump staffer started russian c...\n",
       "2    0  sheriff david clarke becomes an internet joke ...\n",
       "3    0  trump is so obsessed he even has obama‚s name ...\n",
       "4    0  pope francis just called out donald trump duri...\n",
       "5    0  racist alabama cops brutalize black boy while ...\n",
       "6    0                          fresh off the golf course\n",
       "7    0  trump said some insanely racist stuff inside t...\n",
       "8    0   former cia director slams trump over un bullying\n",
       "9    0  brand-new pro-trump ad features so much a** ki..."
      ]
     },
     "execution_count": 3,
     "metadata": {},
     "output_type": "execute_result"
    }
   ],
   "source": [
    "# Importing the Training Data file\n",
    "df= pd.read_csv('training_data_lowercase.csv', sep='\\t', names=['tag', 'text'])\n",
    "df.head(10)"
   ]
  },
  {
   "cell_type": "code",
   "execution_count": 4,
   "metadata": {},
   "outputs": [],
   "source": [
    "#Defining target and features\n",
    "X = df['text']\n",
    "y = df['tag']\n",
    "\n",
    "# Splitting the dataset\n",
    "X_train, X_test, y_train, y_test = train_test_split(X, y, test_size=0.2, random_state=42)"
   ]
  },
  {
   "cell_type": "code",
   "execution_count": 5,
   "metadata": {},
   "outputs": [
    {
     "data": {
      "text/plain": [
       "8891                                                    []\n",
       "25115    [final, reckoning, approaches, obama, high, co...\n",
       "26933    [illinois, budget, talks, fizzle, amid, partis...\n",
       "26971    [clinton, spokesman, ig, report, shows, clinto...\n",
       "11387    [busted, nancy, pelosi, claims, meeting, russi...\n",
       "9948     [heartwarming, hugs, kisses, potus, texas, vis...\n",
       "14165    [hillary, battle, plan, use, sex, offender, hu...\n",
       "14712    [radical, ny, attorney, general, cracking, mak...\n",
       "11974                        [obama, blames, russia, loss]\n",
       "30066    [factbox, one, planet, summit, turns, private,...\n",
       "Name: text, dtype: object"
      ]
     },
     "execution_count": 5,
     "metadata": {},
     "output_type": "execute_result"
    }
   ],
   "source": [
    "### CLEAN AND TOKENIZE DATA\n",
    "def clean_tokenize(phrase):\n",
    "    # Tokenize\n",
    "    tokens = word_tokenize(phrase)\n",
    "    \n",
    "    # Remove stopwords  \n",
    "    stop_words = set(stopwords.words('english'))\n",
    "    return [word.lower() for word in tokens if word.isalpha() and word.lower() not in stop_words]\n",
    "\n",
    "X_train_clean = X_train.apply(clean_tokenize)\n",
    "X_test_clean = X_test.apply(clean_tokenize)\n",
    "\n",
    "X_train_clean.head(10)"
   ]
  },
  {
   "cell_type": "code",
   "execution_count": 6,
   "metadata": {},
   "outputs": [
    {
     "data": {
      "text/plain": [
       "\"\\ndef clean_data(text):        \\n    text = ''.join(f' {e} ' if e in string.punctuation else e for e in text)  # Add spaces around special characters\\n    text = ''.join(e for e in text if e.isalpha() or e.isspace())  # Remove special characters and numbers\\n    text = ' '.join(word for word in text.split() if len(word) > 1)  # Remove single characters\\n    text = text.lstrip()  # Remove single characters from the start\\n    text = ' '.join(text.split())  # Substitute multiple spaces with single space\\n    text = text.replace('b ', '')  # Remove prefixed 'b'\\n    text = text.lower()  # Convert to lowercase\\n    text = text.strip()  # Remove leading/trailing whitespace\\n    \\n    # Get the Spanish stopwords\\n    stop_words = set(stopwords.words('spanish'))\\n    # Remove stopwords\\n    text = ' '.join([word for word in text.split() if word not in stop_words])\\n    \\n    return text\\n\\nX_train_clean = X_train.apply(clean_data)\\nX_train_clean.head(10)\\n\""
      ]
     },
     "execution_count": 6,
     "metadata": {},
     "output_type": "execute_result"
    }
   ],
   "source": [
    "### OLD VERSION OF CLEANING\n",
    "\"\"\"\n",
    "def clean_data(text):        \n",
    "    text = ''.join(f' {e} ' if e in string.punctuation else e for e in text)  # Add spaces around special characters\n",
    "    text = ''.join(e for e in text if e.isalpha() or e.isspace())  # Remove special characters and numbers\n",
    "    text = ' '.join(word for word in text.split() if len(word) > 1)  # Remove single characters\n",
    "    text = text.lstrip()  # Remove single characters from the start\n",
    "    text = ' '.join(text.split())  # Substitute multiple spaces with single space\n",
    "    text = text.replace('b ', '')  # Remove prefixed 'b'\n",
    "    text = text.lower()  # Convert to lowercase\n",
    "    text = text.strip()  # Remove leading/trailing whitespace\n",
    "    \n",
    "    # Get the Spanish stopwords\n",
    "    stop_words = set(stopwords.words('spanish'))\n",
    "    # Remove stopwords\n",
    "    text = ' '.join([word for word in text.split() if word not in stop_words])\n",
    "    \n",
    "    return text\n",
    "\n",
    "X_train_clean = X_train.apply(clean_data)\n",
    "X_train_clean.head(10)\n",
    "\"\"\""
   ]
  },
  {
   "cell_type": "code",
   "execution_count": 7,
   "metadata": {},
   "outputs": [],
   "source": [
    "### Lemmatization\n",
    "# Initialize the lemmatizer\n",
    "lemmatizer = WordNetLemmatizer()\n",
    "\n",
    "# Define a function to lemmatize a sentence or text\n",
    "def lemmatize_text(tokens):\n",
    "    lemmatized = [lemmatizer.lemmatize(token) for token in tokens]\n",
    "    return ' '.join(lemmatized)\n",
    "\n",
    "X_train_lm = X_train_clean.apply(lemmatize_text)\n",
    "X_test_lm = X_test_clean.apply(lemmatize_text)"
   ]
  },
  {
   "cell_type": "code",
   "execution_count": 8,
   "metadata": {},
   "outputs": [],
   "source": [
    "# Recompose the phrases\n",
    "X_train_final = X_train_lm.apply(lambda row: \"\".join(row))\n",
    "X_test_final = X_test_lm.apply(lambda row: \"\".join(row))"
   ]
  },
  {
   "cell_type": "code",
   "execution_count": 9,
   "metadata": {},
   "outputs": [],
   "source": [
    "## Vectorization\n",
    "bow_vect = CountVectorizer(max_features=1000)\n",
    "\n",
    "# fit creates one entry for each different word seen\n",
    "X_train_vect = bow_vect.fit_transform(X_train_final).toarray()\n",
    "X_test_vect = bow_vect.fit_transform(X_test_final).toarray()"
   ]
  },
  {
   "cell_type": "code",
   "execution_count": 10,
   "metadata": {},
   "outputs": [],
   "source": [
    "### Testing Naive Bayes out of the box\n",
    "#Creating and Training the Naive bayes model\n",
    "nb_model = MultinomialNB().fit(X_train_vect, y_train)"
   ]
  },
  {
   "cell_type": "code",
   "execution_count": 11,
   "metadata": {},
   "outputs": [],
   "source": [
    "### Making predictions and Evaluating the model\n",
    "## Predict for the Test Dataset\n",
    "y_pred = nb_model.predict(X_test_vect)"
   ]
  },
  {
   "cell_type": "code",
   "execution_count": 12,
   "metadata": {},
   "outputs": [
    {
     "data": {
      "image/png": "[encoded data removed]",
      "text/plain": [
       "<Figure size 400x300 with 2 Axes>"
      ]
     },
     "metadata": {},
     "output_type": "display_data"
    },
    {
     "name": "stdout",
     "output_type": "stream",
     "text": [
      "Classification Report:\n",
      "               precision    recall  f1-score   support\n",
      "\n",
      "           0       0.57      0.75      0.65      3529\n",
      "           1       0.59      0.39      0.47      3302\n",
      "\n",
      "    accuracy                           0.58      6831\n",
      "   macro avg       0.58      0.57      0.56      6831\n",
      "weighted avg       0.58      0.58      0.56      6831\n",
      "\n",
      "Accuracy Score: 0.5761\n"
     ]
    }
   ],
   "source": [
    "# Get confusion matrix\n",
    "cm = confusion_matrix(y_test, y_pred)\n",
    "\n",
    "# Visualize confusion matrix\n",
    "plt.figure(figsize=(4, 3))\n",
    "sns.heatmap(cm, annot=True, fmt='d', cmap='Blues', xticklabels=['Machine', 'Human'], yticklabels=['Machine', 'Human'])\n",
    "plt.xlabel('Predicted')\n",
    "plt.ylabel('Actual')\n",
    "plt.title('Confusion Matrix')\n",
    "plt.show()\n",
    "\n",
    "# Generate classification report\n",
    "report = classification_report(y_test, y_pred)\n",
    "print(\"Classification Report:\\n\", report)\n",
    "\n",
    "acc_score = accuracy_score(y_test, y_pred)\n",
    "print(f\"Accuracy Score: {acc_score:.4f}\")"
   ]
  }
 ],
 "metadata": {
  "kernelspec": {
   "display_name": "base",
   "language": "python",
   "name": "python3"
  },
  "language_info": {
   "codemirror_mode": {
    "name": "ipython",
    "version": 3
   },
   "file_extension": ".py",
   "mimetype": "text/x-python",
   "name": "python",
   "nbconvert_exporter": "python",
   "pygments_lexer": "ipython3",
   "version": "3.12.4"
  }
 },
 "nbformat": 4,
 "nbformat_minor": 2
}
