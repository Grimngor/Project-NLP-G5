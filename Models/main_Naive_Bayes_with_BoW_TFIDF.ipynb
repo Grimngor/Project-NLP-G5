{
 "cells": [
  {
   "cell_type": "markdown",
   "metadata": {},
   "source": [
    "# STEPS TO BE DONE BY KK!!!\n",
    "1. Lemmatization, \n",
    "2. BoW or TFIDF(with ngram), \n",
    "3. Train Model \n",
    "4. Include POS \n",
    "5. Train Model \n",
    "6. sparse sentence \n",
    "7. Trainmodel"
   ]
  },
  {
   "cell_type": "code",
   "execution_count": 1,
   "metadata": {},
   "outputs": [],
   "source": [
    "# Import libraries\n",
    "import pandas as pd\n",
    "import re\n",
    "import nltk\n",
    "from nltk.corpus import wordnet\n",
    "from nltk.stem import WordNetLemmatizer\n",
    "from sklearn.feature_extraction.text import TfidfVectorizer\n",
    "from sklearn.model_selection import train_test_split\n",
    "from sklearn.naive_bayes import MultinomialNB\n",
    "from sklearn.metrics import accuracy_score, classification_report\n",
    "import pickle\n",
    "from nltk.corpus import stopwords\n",
    "import matplotlib.pyplot as plt\n",
    "import seaborn as sns\n",
    "from sklearn.metrics import confusion_matrix\n",
    "from sklearn.metrics import classification_report"
   ]
  },
  {
   "cell_type": "code",
   "execution_count": 2,
   "metadata": {},
   "outputs": [
    {
     "name": "stderr",
     "output_type": "stream",
     "text": [
      "[nltk_data] Downloading package stopwords to\n",
      "[nltk_data]     C:\\Users\\KK\\AppData\\Roaming\\nltk_data...\n",
      "[nltk_data]   Package stopwords is already up-to-date!\n"
     ]
    }
   ],
   "source": [
    "\n",
    "# Download stopwords from nltk\n",
    "nltk.download('stopwords')\n",
    "\n",
    "# Load dataset\n",
    "# Try loading the file with tab delimiter\n",
    "df = pd.read_csv('training_data_lowercase.csv', sep='\\t',header=None, names=['label', 'text'])\n"
   ]
  },
  {
   "cell_type": "code",
   "execution_count": 3,
   "metadata": {},
   "outputs": [
    {
     "name": "stdout",
     "output_type": "stream",
     "text": [
      "0        donald trump sends embarrassing new years eve ...\n",
      "1        drunk bragging trump staffer started russian c...\n",
      "2        sheriff david clarke becomes internet joke thr...\n",
      "3        trump obsessed even obamas name coded website ...\n",
      "4        pope francis called donald trump christmas speech\n",
      "                               ...                        \n",
      "34147           tears rain thais gather late kings funeral\n",
      "34148    pyongyang university needs nonus teachers trav...\n",
      "34149    philippine president duterte visit japan ahead...\n",
      "34150            japans abe may election many dont want pm\n",
      "34151    demoralized divided inside catalonias police f...\n",
      "Name: cleaned_text, Length: 34152, dtype: object\n"
     ]
    },
    {
     "data": {
      "text/plain": [
       "(34152,)"
      ]
     },
     "execution_count": 3,
     "metadata": {},
     "output_type": "execute_result"
    }
   ],
   "source": [
    "\n",
    "# Check and clean dataset\n",
    "df.dropna(subset=['text', 'label'], inplace=True)\n",
    "\n",
    "# Preprocess text (lowercasing, removing punctuation, and stopwords)\n",
    "def preprocess_text(text):\n",
    "    text = text.lower()\n",
    "    text = re.sub(r'[^\\w\\s]', '', text)  # Remove punctuation\n",
    "    #stop_words = set(stopwords.words('spanish'))  # Assuming Spanish text\n",
    "    stop_words = set(stopwords.words('english'))  # English text\n",
    "    return ' '.join([word for word in text.split() if word not in stop_words])\n",
    "\n",
    "df['cleaned_text'] = df['text'].apply(preprocess_text)\n",
    "print(df['cleaned_text'])\n",
    "df['cleaned_text'].shape"
   ]
  },
  {
   "cell_type": "code",
   "execution_count": 4,
   "metadata": {},
   "outputs": [
    {
     "name": "stderr",
     "output_type": "stream",
     "text": [
      "[nltk_data] Downloading package wordnet to\n",
      "[nltk_data]     C:\\Users\\KK\\AppData\\Roaming\\nltk_data...\n",
      "[nltk_data]   Package wordnet is already up-to-date!\n",
      "[nltk_data] Downloading package omw-1.4 to\n",
      "[nltk_data]     C:\\Users\\KK\\AppData\\Roaming\\nltk_data...\n",
      "[nltk_data]   Package omw-1.4 is already up-to-date!\n",
      "[nltk_data] Downloading package punkt to\n",
      "[nltk_data]     C:\\Users\\KK\\AppData\\Roaming\\nltk_data...\n",
      "[nltk_data]   Package punkt is already up-to-date!\n",
      "[nltk_data] Downloading package averaged_perceptron_tagger to\n",
      "[nltk_data]     C:\\Users\\KK\\AppData\\Roaming\\nltk_data...\n",
      "[nltk_data]   Package averaged_perceptron_tagger is already up-to-\n",
      "[nltk_data]       date!\n"
     ]
    },
    {
     "name": "stdout",
     "output_type": "stream",
     "text": [
      "0        donald trump sends embarrassing new year eve m...\n",
      "1        drunk bragging trump staffer started russian c...\n",
      "2        sheriff david clarke becomes internet joke thr...\n",
      "3        trump obsessed even obamas name coded website ...\n",
      "4        pope francis called donald trump christmas speech\n",
      "                               ...                        \n",
      "34147              tear rain thai gather late king funeral\n",
      "34148    pyongyang university need nonus teacher travel...\n",
      "34149    philippine president duterte visit japan ahead...\n",
      "34150             japan abe may election many dont want pm\n",
      "34151    demoralized divided inside catalonia police force\n",
      "Name: cleaned_text, Length: 34152, dtype: object\n"
     ]
    },
    {
     "data": {
      "text/plain": [
       "(34152,)"
      ]
     },
     "execution_count": 4,
     "metadata": {},
     "output_type": "execute_result"
    }
   ],
   "source": [
    "# LEMMATIZATION STEPS\n",
    "# Download required NLTK data\n",
    "nltk.download('wordnet')\n",
    "nltk.download('omw-1.4')  # Optional for better support\n",
    "nltk.download('punkt')     # Tokenizer\n",
    "nltk.download('averaged_perceptron_tagger')  # POS tagging to help lemmatization\n",
    "\n",
    "# Initialize the lemmatizer\n",
    "lemmatizer = WordNetLemmatizer()\n",
    "\n",
    "# Function to map NLTK POS tags to WordNet POS tags\n",
    "def get_wordnet_pos(word):\n",
    "    tag = pos_tag([word])[0][1][0]  # Get the first character of the POS tag\n",
    "    tag_dict = {\"J\": wordnet.ADJ,   # Adjective\n",
    "                \"N\": wordnet.NOUN,  # Noun\n",
    "                \"V\": wordnet.VERB,  # Verb\n",
    "                \"R\": wordnet.ADV}   # Adverb\n",
    "    return tag_dict.get(tag, wordnet.NOUN)  # Default to NOUN if no match\n",
    "    \n",
    "# Function to lemmatize text with POS tagging\n",
    "def lemmatize_text(text):\n",
    "    # Lemmatize each word in the text using the POS tags\n",
    "    lemmatized_text = ' '.join([lemmatizer.lemmatize(word) for word in text.split()])\n",
    "    return lemmatized_text\n",
    "\n",
    "# Lemmatizing the input DS\n",
    "df['cleaned_text'] = df['cleaned_text'].apply(lemmatize_text)\n",
    "\n",
    "print(df['cleaned_text'])\n",
    "df['cleaned_text'].shape\n"
   ]
  },
  {
   "cell_type": "code",
   "execution_count": null,
   "metadata": {},
   "outputs": [],
   "source": [
    "\"\"\" # Vectorize text using TF-IDF\n",
    "tfidf = TfidfVectorizer(max_features=1000,ngram_range=(1,2))\n",
    "X = tfidf.fit_transform(df['cleaned_text'])\n",
    "y = df['label']\n",
    "\n",
    "# Split the data\n",
    "X_train, X_test, y_train, y_test = train_test_split(X, y, test_size=0.15, random_state=42)\n",
    "\n",
    "# Train the Naive Bayes model\n",
    "model = MultinomialNB()\n",
    "model.fit(X_train, y_train) \"\"\""
   ]
  },
  {
   "cell_type": "code",
   "execution_count": 6,
   "metadata": {},
   "outputs": [
    {
     "name": "stdout",
     "output_type": "stream",
     "text": [
      "Bag of Words (BOW) Performance:\n",
      "Confusion Matrix:\n",
      "[[4200  220]\n",
      " [ 280 3838]]\n",
      "\n",
      "Classification Report:\n",
      "              precision    recall  f1-score   support\n",
      "\n",
      "           0       0.94      0.95      0.94      4420\n",
      "           1       0.95      0.93      0.94      4118\n",
      "\n",
      "    accuracy                           0.94      8538\n",
      "   macro avg       0.94      0.94      0.94      8538\n",
      "weighted avg       0.94      0.94      0.94      8538\n",
      "\n"
     ]
    },
    {
     "data": {
      "image/png": "[encoded data removed]",
      "text/plain": [
       "<Figure size 600x400 with 2 Axes>"
      ]
     },
     "metadata": {},
     "output_type": "display_data"
    },
    {
     "name": "stdout",
     "output_type": "stream",
     "text": [
      "\n",
      "TF-IDF Performance:\n",
      "Confusion Matrix:\n",
      "[[4187  233]\n",
      " [ 292 3826]]\n",
      "\n",
      "Classification Report:\n",
      "              precision    recall  f1-score   support\n",
      "\n",
      "           0       0.93      0.95      0.94      4420\n",
      "           1       0.94      0.93      0.94      4118\n",
      "\n",
      "    accuracy                           0.94      8538\n",
      "   macro avg       0.94      0.94      0.94      8538\n",
      "weighted avg       0.94      0.94      0.94      8538\n",
      "\n"
     ]
    },
    {
     "data": {
      "image/png": "[encoded data removed]",
      "text/plain": [
       "<Figure size 600x400 with 2 Axes>"
      ]
     },
     "metadata": {},
     "output_type": "display_data"
    }
   ],
   "source": [
    "# PERFORM BoW and TF-IDF with Naive Bayes\n",
    "\n",
    "from sklearn.feature_extraction.text import CountVectorizer\n",
    "\n",
    "# lemmatized text is in 'df['cleaned_text']' and labels are in 'df['label']'\n",
    "\n",
    "# Step 1: Split the data into training and testing sets\n",
    "X_train, X_test, y_train, y_test = train_test_split(df['cleaned_text'], df['label'], test_size=0.25, random_state=42)\n",
    "\n",
    "# Step 2: Vectorize the text with Bag of Words (BOW) and n-grams\n",
    "\n",
    "bow_vectorizer = CountVectorizer(ngram_range=(1, 2))  # Bigrams (1-grams and 2-grams)\n",
    "#bow_vectorizer = CountVectorizer(ngram_range=(1, 2), min_df=2, max_df=0.9)  # Exclude words that appear in less than 2 docs or more than 90% of docs\n",
    "X_train_bow = bow_vectorizer.fit_transform(X_train)\n",
    "X_test_bow = bow_vectorizer.transform(X_test)\n",
    "\n",
    "# Step 3: Vectorize the text with TF-IDF and n-grams\n",
    "\n",
    "tfidf_vectorizer = TfidfVectorizer(ngram_range=(1, 2))  # Bigrams (1-grams and 2-grams)\n",
    "#tfidf_vectorizer = TfidfVectorizer(ngram_range=(1, 3))  # Trigrams\n",
    "X_train_tfidf = tfidf_vectorizer.fit_transform(X_train)\n",
    "X_test_tfidf = tfidf_vectorizer.transform(X_test)\n",
    "\n",
    "# Step 4: Train a Naive Bayes classifier for BOW\n",
    "nb_bow = MultinomialNB()\n",
    "nb_bow.fit(X_train_bow, y_train)\n",
    "\n",
    "# Step 5: Train a Naive Bayes classifier for TF-IDF\n",
    "nb_tfidf = MultinomialNB()\n",
    "nb_tfidf.fit(X_train_tfidf, y_train)\n",
    "\n",
    "# Step 6: Predict with both models\n",
    "y_pred_bow = nb_bow.predict(X_test_bow)\n",
    "y_pred_tfidf = nb_tfidf.predict(X_test_tfidf)\n",
    "\n",
    "# Step 7: Evaluate the models using confusion matrix and classification report\n",
    "\n",
    "# Confusion matrix and classification report for BOW\n",
    "print(\"Bag of Words (BOW) Performance:\")\n",
    "print(\"Confusion Matrix:\")\n",
    "cm_bow = confusion_matrix(y_test, y_pred_bow)\n",
    "print(cm_bow)\n",
    "print(\"\\nClassification Report:\")\n",
    "print(classification_report(y_test, y_pred_bow))\n",
    "\n",
    "# Plot confusion matrix for BOW\n",
    "plt.figure(figsize=(6,4))\n",
    "sns.heatmap(cm_bow, annot=True, fmt='d', cmap='Blues', xticklabels=['Machine', 'Human'], yticklabels=['Machine', 'Human'])\n",
    "plt.title('Confusion Matrix - BOW')\n",
    "plt.xlabel('Predicted')\n",
    "plt.ylabel('Actual')\n",
    "plt.show()\n",
    "\n",
    "# Confusion matrix and classification report for TF-IDF\n",
    "print(\"\\nTF-IDF Performance:\")\n",
    "print(\"Confusion Matrix:\")\n",
    "cm_tfidf = confusion_matrix(y_test, y_pred_tfidf)\n",
    "print(cm_tfidf)\n",
    "print(\"\\nClassification Report:\")\n",
    "print(classification_report(y_test, y_pred_tfidf))\n",
    "\n",
    "# Plot confusion matrix for TF-IDF\n",
    "plt.figure(figsize=(6,4))\n",
    "sns.heatmap(cm_tfidf, annot=True, fmt='d', cmap='Greens', xticklabels=['Machine', 'Human'], yticklabels=['Machine', 'Human'])\n",
    "plt.title('Confusion Matrix - TF-IDF')\n",
    "plt.xlabel('Predicted')\n",
    "plt.ylabel('Actual')\n",
    "plt.show()"
   ]
  }
 ],
 "metadata": {
  "kernelspec": {
   "display_name": "base",
   "language": "python",
   "name": "python3"
  },
  "language_info": {
   "codemirror_mode": {
    "name": "ipython",
    "version": 3
   },
   "file_extension": ".py",
   "mimetype": "text/x-python",
   "name": "python",
   "nbconvert_exporter": "python",
   "pygments_lexer": "ipython3",
   "version": "3.12.3"
  }
 },
 "nbformat": 4,
 "nbformat_minor": 2
}
