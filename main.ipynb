{
 "cells": [
  {
   "cell_type": "markdown",
   "metadata": {},
   "source": [
    "### Reference Notbooks\n",
    "4. Natural language Processing IV (Section 5.4 thne 5.6)\n",
    "4. NLP Exercise - do with student\n",
    "\n",
    "### Steps to Follow\n",
    "1. Try NaiveBayes classiffier first\n",
    "2. Data Cleaning, lemming, etc\n",
    "3. TFIDF\n",
    "5. Try Random Forest (or K-means with only 2 clases?)"
   ]
  },
  {
   "cell_type": "code",
   "execution_count": 1,
   "metadata": {},
   "outputs": [],
   "source": [
    "import pandas as pd\n",
    "import string\n",
    "from nltk.corpus import stopwords\n",
    "from sklearn.model_selection import train_test_split\n",
    "from sklearn.naive_bayes import MultinomialNB\n",
    "from sklearn.metrics import classification_report, confusion_matrix, accuracy_score"
   ]
  },
  {
   "cell_type": "code",
   "execution_count": 2,
   "metadata": {},
   "outputs": [
    {
     "data": {
      "text/html": [
       "<div>\n",
       "<style scoped>\n",
       "    .dataframe tbody tr th:only-of-type {\n",
       "        vertical-align: middle;\n",
       "    }\n",
       "\n",
       "    .dataframe tbody tr th {\n",
       "        vertical-align: top;\n",
       "    }\n",
       "\n",
       "    .dataframe thead th {\n",
       "        text-align: right;\n",
       "    }\n",
       "</style>\n",
       "<table border=\"1\" class=\"dataframe\">\n",
       "  <thead>\n",
       "    <tr style=\"text-align: right;\">\n",
       "      <th></th>\n",
       "      <th>tag</th>\n",
       "      <th>text</th>\n",
       "    </tr>\n",
       "  </thead>\n",
       "  <tbody>\n",
       "    <tr>\n",
       "      <th>9835</th>\n",
       "      <td>0</td>\n",
       "      <td>Nota del editor : Tomio Geron es la cabeza de ...</td>\n",
       "    </tr>\n",
       "    <tr>\n",
       "      <th>1444</th>\n",
       "      <td>1</td>\n",
       "      <td>Él fue el único de los últimos nueve jugadores...</td>\n",
       "    </tr>\n",
       "    <tr>\n",
       "      <th>12243</th>\n",
       "      <td>0</td>\n",
       "      <td>David y yo no podría haber sido más contentos...</td>\n",
       "    </tr>\n",
       "    <tr>\n",
       "      <th>1794</th>\n",
       "      <td>1</td>\n",
       "      <td>Escribir usando cualquier tipo de mando a dist...</td>\n",
       "    </tr>\n",
       "    <tr>\n",
       "      <th>9526</th>\n",
       "      <td>0</td>\n",
       "      <td>Lo que significa , querido tío recta imaginari...</td>\n",
       "    </tr>\n",
       "    <tr>\n",
       "      <th>3095</th>\n",
       "      <td>1</td>\n",
       "      <td>La final de El Soltero era una que los fanes n...</td>\n",
       "    </tr>\n",
       "    <tr>\n",
       "      <th>6321</th>\n",
       "      <td>0</td>\n",
       "      <td>Pronto me enteré de lo que mi padre ya sabía :...</td>\n",
       "    </tr>\n",
       "    <tr>\n",
       "      <th>14589</th>\n",
       "      <td>1</td>\n",
       "      <td>Mi novio y yo hemos estado juntos desde de la ...</td>\n",
       "    </tr>\n",
       "    <tr>\n",
       "      <th>13496</th>\n",
       "      <td>0</td>\n",
       "      <td>Más grande de China compañía de comercio elect...</td>\n",
       "    </tr>\n",
       "    <tr>\n",
       "      <th>4824</th>\n",
       "      <td>0</td>\n",
       "      <td>Era fácil para deshacerse de muchas de estas p...</td>\n",
       "    </tr>\n",
       "  </tbody>\n",
       "</table>\n",
       "</div>"
      ],
      "text/plain": [
       "       tag                                               text\n",
       "9835     0  Nota del editor : Tomio Geron es la cabeza de ...\n",
       "1444     1  Él fue el único de los últimos nueve jugadores...\n",
       "12243    0   David y yo no podría haber sido más contentos...\n",
       "1794     1  Escribir usando cualquier tipo de mando a dist...\n",
       "9526     0  Lo que significa , querido tío recta imaginari...\n",
       "3095     1  La final de El Soltero era una que los fanes n...\n",
       "6321     0  Pronto me enteré de lo que mi padre ya sabía :...\n",
       "14589    1  Mi novio y yo hemos estado juntos desde de la ...\n",
       "13496    0  Más grande de China compañía de comercio elect...\n",
       "4824     0  Era fácil para deshacerse de muchas de estas p..."
      ]
     },
     "execution_count": 2,
     "metadata": {},
     "output_type": "execute_result"
    }
   ],
   "source": [
    "# Importing the Training Data file\n",
    "df= pd.read_csv('TRAINING_DATA.txt', sep='\\t')\n",
    "df.columns = ['tag', 'text']\n",
    "df.sample(10)"
   ]
  },
  {
   "cell_type": "code",
   "execution_count": 3,
   "metadata": {},
   "outputs": [
    {
     "data": {
      "text/html": [
       "<div>\n",
       "<style scoped>\n",
       "    .dataframe tbody tr th:only-of-type {\n",
       "        vertical-align: middle;\n",
       "    }\n",
       "\n",
       "    .dataframe tbody tr th {\n",
       "        vertical-align: top;\n",
       "    }\n",
       "\n",
       "    .dataframe thead th {\n",
       "        text-align: right;\n",
       "    }\n",
       "</style>\n",
       "<table border=\"1\" class=\"dataframe\">\n",
       "  <thead>\n",
       "    <tr style=\"text-align: right;\">\n",
       "      <th></th>\n",
       "      <th>tag</th>\n",
       "      <th>text</th>\n",
       "    </tr>\n",
       "  </thead>\n",
       "  <tbody>\n",
       "    <tr>\n",
       "      <th>3612</th>\n",
       "      <td>1</td>\n",
       "      <td>ambos productos serán lanzados en todo el mund...</td>\n",
       "    </tr>\n",
       "    <tr>\n",
       "      <th>3258</th>\n",
       "      <td>1</td>\n",
       "      <td>al igual que las dos primeras partes del estud...</td>\n",
       "    </tr>\n",
       "    <tr>\n",
       "      <th>3557</th>\n",
       "      <td>0</td>\n",
       "      <td>después de los clientes mantienen preguntando ...</td>\n",
       "    </tr>\n",
       "    <tr>\n",
       "      <th>2950</th>\n",
       "      <td>0</td>\n",
       "      <td>en marzo después de que amber había pasado un ...</td>\n",
       "    </tr>\n",
       "    <tr>\n",
       "      <th>5756</th>\n",
       "      <td>1</td>\n",
       "      <td>en ningún momento durante el proceso sentí que...</td>\n",
       "    </tr>\n",
       "    <tr>\n",
       "      <th>4278</th>\n",
       "      <td>0</td>\n",
       "      <td>la mayoría de la stasi no torturadores bestias...</td>\n",
       "    </tr>\n",
       "    <tr>\n",
       "      <th>12991</th>\n",
       "      <td>0</td>\n",
       "      <td>real housewives of gretchen rossi del condado ...</td>\n",
       "    </tr>\n",
       "    <tr>\n",
       "      <th>7998</th>\n",
       "      <td>1</td>\n",
       "      <td>este es el mismo hockey cuyo propio presupuest...</td>\n",
       "    </tr>\n",
       "    <tr>\n",
       "      <th>2160</th>\n",
       "      <td>0</td>\n",
       "      <td>te gustaría que la gente que camina usted apun...</td>\n",
       "    </tr>\n",
       "    <tr>\n",
       "      <th>10015</th>\n",
       "      <td>1</td>\n",
       "      <td>el estuche flir one le da su iphone una visión...</td>\n",
       "    </tr>\n",
       "  </tbody>\n",
       "</table>\n",
       "</div>"
      ],
      "text/plain": [
       "       tag                                               text\n",
       "3612     1  ambos productos serán lanzados en todo el mund...\n",
       "3258     1  al igual que las dos primeras partes del estud...\n",
       "3557     0  después de los clientes mantienen preguntando ...\n",
       "2950     0  en marzo después de que amber había pasado un ...\n",
       "5756     1  en ningún momento durante el proceso sentí que...\n",
       "4278     0  la mayoría de la stasi no torturadores bestias...\n",
       "12991    0  real housewives of gretchen rossi del condado ...\n",
       "7998     1  este es el mismo hockey cuyo propio presupuest...\n",
       "2160     0  te gustaría que la gente que camina usted apun...\n",
       "10015    1  el estuche flir one le da su iphone una visión..."
      ]
     },
     "execution_count": 3,
     "metadata": {},
     "output_type": "execute_result"
    }
   ],
   "source": [
    "def clean_data(text):        \n",
    "    text = ''.join(f' {e} ' if e in string.punctuation else e for e in text)  # Add spaces around special characters\n",
    "    text = ''.join(e for e in text if e.isalpha() or e.isspace())  # Remove special characters and numbers\n",
    "    text = ' '.join(word for word in text.split() if len(word) > 1)  # Remove single characters\n",
    "    text = text.lstrip()  # Remove single characters from the start\n",
    "    text = ' '.join(text.split())  # Substitute multiple spaces with single space\n",
    "    text = text.replace('b ', '')  # Remove prefixed 'b'\n",
    "    text = text.lower()  # Convert to lowercase\n",
    "    text = text.strip()  # Remove leading/trailing whitespace\n",
    "    \n",
    "    return text\n",
    "\n",
    "clean_df = df\n",
    "clean_df['text'] = df['text'].apply(clean_data)\n",
    "clean_df.sample(10)"
   ]
  },
  {
   "cell_type": "code",
   "execution_count": 4,
   "metadata": {},
   "outputs": [],
   "source": [
    "# Get the Spanish stopwords\n",
    "stop_words = set(stopwords.words('spanish'))\n",
    "# Remove stopwords\n",
    "no_sw_df = clean_df\n",
    "clean_df['text'] = clean_df['text'].apply(lambda x: ' '.join(word for word in x.split() if word not in stop_words))"
   ]
  },
  {
   "cell_type": "code",
   "execution_count": null,
   "metadata": {},
   "outputs": [],
   "source": [
    "### TODO: Lemmatization"
   ]
  },
  {
   "cell_type": "code",
   "execution_count": null,
   "metadata": {},
   "outputs": [],
   "source": [
    "### TODO: Bag of Words?"
   ]
  },
  {
   "cell_type": "code",
   "execution_count": 13,
   "metadata": {},
   "outputs": [],
   "source": [
    "#Defining target and features\n",
    "X = df['text']\n",
    "y = df['tag']\n",
    "\n",
    "# Splitting the dataset\n",
    "X_train, X_test, y_train, y_test = train_test_split(X, y, test_size=0.2, random_state=42)"
   ]
  },
  {
   "cell_type": "code",
   "execution_count": null,
   "metadata": {},
   "outputs": [],
   "source": [
    "### TODO: Bag of Words or some way of vectorizing the data\n",
    "countvector=CountVectorizer(ngram_range=(2,2))\n",
    "traindataset=countvector.fit_transform(headlines)"
   ]
  },
  {
   "cell_type": "code",
   "execution_count": null,
   "metadata": {},
   "outputs": [],
   "source": [
    "### Testing Naive Bayes out of the box\n",
    "#Creating and Training the Naive bayes model\n",
    "nb_model = MultinomialNB().fit(X_train, y_train)"
   ]
  },
  {
   "cell_type": "code",
   "execution_count": null,
   "metadata": {},
   "outputs": [],
   "source": [
    "### Making predictions and Evaluating the model\n",
    "## Predict for the Test Dataset\n",
    "y_pred = nb_model.predict(X_test)"
   ]
  },
  {
   "cell_type": "code",
   "execution_count": null,
   "metadata": {},
   "outputs": [],
   "source": [
    "cm = confusion_matrix(y_test, y_pred)\n",
    "print(matrix)\n",
    "\n",
    "acc_score = accuracy_score(X_test, y_pred)\n",
    "print(f\"Accuracy Score: {acc_score:.4f}\")\n",
    "\n",
    "report = classification_report(X_test, y_pred)\n",
    "print(report)"
   ]
  },
  {
   "cell_type": "code",
   "execution_count": null,
   "metadata": {},
   "outputs": [],
   "source": [
    "\"\"\" # Creating a confusion matrix\n",
    "cm = confusion_matrix(\n",
    "    np.argmax(y_test, axis=1),                                                 # True class labels converted from one-hot encoding to class indices\n",
    "    np.argmax(y_pred, axis=1)                                                  # Predicted class labels converted from one-hot encoding to class indices\n",
    ")\n",
    "\n",
    "# Plot the confusion matrix\n",
    "plt.figure(figsize=(8, 6))                                                     #   Set figure size to make the plot readable\n",
    "plt.imshow(cm, interpolation='nearest', cmap='Greens')                         # Display the confusion matrix with a green color map\n",
    "plt.title('Confusion Matrix')                                                  # Set the title of the plot\n",
    "plt.colorbar()                                                                 # Add a color bar to interpret the matrix values visually\n",
    "\n",
    "# Use the custom class names as tick labels\n",
    "plt.xticks(range(len(custom_class_names)), custom_class_names, rotation=45)    # Set x-axis tick marks and labels with a 45-degree rotation\n",
    "plt.yticks(range(len(custom_class_names)), custom_class_names)                 # Set y-axis tick marks and labels\n",
    "\n",
    "# Add numbers to the confusion matrix\n",
    "for i in range(cm.shape[0]):                                                   # Iterate over rows\n",
    "    for j in range(cm.shape[1]):                                               # Iterate over columns\n",
    "        plt.text(j, i, cm[i, j], ha='center', va='center', color='black')      # Add the count in each cell with black text\n",
    "\n",
    "plt.show()  # Display the confusion matrix plot \"\"\""
   ]
  }
 ],
 "metadata": {
  "kernelspec": {
   "display_name": "base",
   "language": "python",
   "name": "python3"
  },
  "language_info": {
   "codemirror_mode": {
    "name": "ipython",
    "version": 3
   },
   "file_extension": ".py",
   "mimetype": "text/x-python",
   "name": "python",
   "nbconvert_exporter": "python",
   "pygments_lexer": "ipython3",
   "version": "3.12.4"
  }
 },
 "nbformat": 4,
 "nbformat_minor": 2
}
