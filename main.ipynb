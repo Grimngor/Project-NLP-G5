{
 "cells": [
  {
   "cell_type": "code",
   "execution_count": 8,
   "metadata": {},
   "outputs": [],
   "source": [
    "# Import necessary libraries\n",
    "import pandas as pd\n",
    "import string\n",
    "import nltk\n",
    "from nltk.tokenize import word_tokenize\n",
    "from nltk.corpus import stopwords, wordnet\n",
    "from nltk.stem import WordNetLemmatizer\n",
    "from sklearn.feature_extraction.text import TfidfVectorizer, CountVectorizer\n",
    "from sklearn.model_selection import train_test_split, cross_val_score, KFold\n",
    "from sklearn.svm import SVC\n",
    "from xgboost import XGBClassifier\n",
    "from sklearn.linear_model import LogisticRegression\n",
    "from sklearn.naive_bayes import MultinomialNB\n",
    "from sklearn.metrics import classification_report, confusion_matrix, accuracy_score\n",
    "from sklearn.model_selection import GridSearchCV\n",
    "import matplotlib.pyplot as plt\n",
    "import seaborn as sns"
   ]
  },
  {
   "cell_type": "code",
   "execution_count": 9,
   "metadata": {},
   "outputs": [],
   "source": [
    "# Importing the Training Data file\n",
    "df = pd.read_csv('training_data_lowercase.csv', sep='\\t', names=['tag', 'text'])\n",
    "\n",
    "#Defining target and features\n",
    "X = df['text']\n",
    "y = df['tag']\n",
    "\n",
    "# Splitting the dataset\n",
    "X_train, X_test, y_train, y_test = train_test_split(X, y, test_size=0.2, random_state=42)"
   ]
  },
  {
   "cell_type": "code",
   "execution_count": 10,
   "metadata": {},
   "outputs": [],
   "source": [
    "### Initialize resources and define Functions\n",
    "lemmatizer = WordNetLemmatizer()\n",
    "stop_words = set(stopwords.words('english'))\n",
    "\n",
    "# Function to get the correct WordNet POS tag\n",
    "def get_wordnet_pos(word):\n",
    "    tag = nltk.pos_tag([word])[0][1][0].upper()\n",
    "    tag_dict = {\"J\": wordnet.ADJ,  # Adjectives\n",
    "                \"N\": wordnet.NOUN,  # Nouns\n",
    "                \"V\": wordnet.VERB,  # Verbs\n",
    "                \"R\": wordnet.ADV}   # Adverbs\n",
    "    return tag_dict.get(tag, wordnet.NOUN)  # Default to noun if POS not found\n",
    "\n",
    "# Function to lemmatize tokens with POS tags\n",
    "def lemmatize_text(tokens):\n",
    "    return [lemmatizer.lemmatize(word, get_wordnet_pos(word)) for word in tokens]\n",
    "\n",
    "# Function for flexible preprocessing\n",
    "def preprocess_text(text, clean=True, tokenize=True, lemmatize=True, remove_stopwords=True):\n",
    "    # Step 1: Basic Cleaning (lowercasing and removing non-alphabetic characters)\n",
    "    if clean:\n",
    "        text = ' '.join([word.lower() for word in word_tokenize(text) if word.isalpha()])  # Join words with spaces\n",
    "\n",
    "    # Step 2: Tokenization\n",
    "    if tokenize:\n",
    "        text = word_tokenize(text)\n",
    "    else:\n",
    "        text = text.split()  # Split into words even if not tokenizing with NLTK\n",
    "\n",
    "    # Step 3: Stopword Removal\n",
    "    if remove_stopwords:\n",
    "        text = [word for word in text if word not in stop_words]\n",
    "\n",
    "    # Step 4: Lemmatization with POS tagging\n",
    "    if lemmatize:\n",
    "        text = lemmatize_text(text)\n",
    "\n",
    "    # Return processed text\n",
    "    return text"
   ]
  },
  {
   "cell_type": "code",
   "execution_count": 11,
   "metadata": {},
   "outputs": [],
   "source": [
    "# Preprocess training and test sets\n",
    "X_train_clean = X_train.apply(\n",
    "    lambda x: preprocess_text(x,\n",
    "        clean=True,\n",
    "        tokenize=True,\n",
    "        lemmatize=True,\n",
    "        remove_stopwords=False))\n",
    "X_test_clean = X_test.apply(\n",
    "    lambda x: preprocess_text(x,\n",
    "        clean=True,\n",
    "        tokenize=True,\n",
    "        lemmatize=True,\n",
    "        remove_stopwords=False))"
   ]
  },
  {
   "cell_type": "code",
   "execution_count": 12,
   "metadata": {},
   "outputs": [],
   "source": [
    "# Join the tokens back into strings for vectorization\n",
    "X_train_final = X_train_clean.apply(lambda tokens: \" \".join(tokens))\n",
    "X_test_final = X_test_clean.apply(lambda tokens: \" \".join(tokens))"
   ]
  },
  {
   "cell_type": "code",
   "execution_count": 13,
   "metadata": {},
   "outputs": [],
   "source": [
    "### VECTORIZATION\n",
    "# Vectorization using Bag of Words\n",
    "do_bow = False\n",
    "if do_bow:\n",
    "    bow_vect = CountVectorizer(max_features=1000)\n",
    "\n",
    "    # Fit and transform the training data, transform the test data\n",
    "    X_train_vect = bow_vect.fit_transform(X_train_final).toarray()\n",
    "    X_test_vect = bow_vect.transform(X_test_final).toarray()\n",
    "\n",
    "# TF-IDF Vectorization\n",
    "do_tf_idf = True\n",
    "if do_tf_idf:\n",
    "    tfidf_vect = TfidfVectorizer(max_features=1000, ngram_range=(1,2))\n",
    "\n",
    "    # Fit and transform the training data, transform the test data\n",
    "    X_train_tfidf = tfidf_vect.fit_transform(X_train_final).toarray()\n",
    "    X_test_tfidf = tfidf_vect.transform(X_test_final).toarray()"
   ]
  },
  {
   "cell_type": "code",
   "execution_count": 14,
   "metadata": {},
   "outputs": [],
   "source": [
    "### TRAINING AND PREDICTING WITH DIFFERENT MODELS (bag of words)\n",
    "do_bow_training = False\n",
    "if do_bow_training:\n",
    "    # Logistic Regression\n",
    "    lr_model_bow = LogisticRegression(max_iter=1000).fit(X_train_vect, y_train)\n",
    "    y_pred_lr_bow = lr_model_bow.predict(X_test_vect)\n",
    "\n",
    "    # Support Vector Machine (SVM)\n",
    "    svm_model_bow = SVC(kernel='linear', random_state=42).fit(X_train_vect, y_train)\n",
    "    y_pred_svm_bow = svm_model_bow.predict(X_test_vect)\n",
    "\n",
    "    # Naive Bayes classifier\n",
    "    nb_model_bow = MultinomialNB().fit(X_train_vect, y_train)\n",
    "    y_pred_nb_bow = nb_model_bow.predict(X_test_vect)\n",
    "\n",
    "    # XGB Classifier\n",
    "    xgb_model_bow = XGBClassifier(random_state=42).fit(list(X_train_vect), y_train)\n",
    "    y_pred_xgb_bow = xgb_model_bow.predict(list(X_test_vect))"
   ]
  },
  {
   "cell_type": "code",
   "execution_count": 15,
   "metadata": {},
   "outputs": [],
   "source": [
    "### GRID SEARCH FOR BEST HYPERPARAMETERS\n",
    "# We didn't have time to implement the best hyperparameters in the final model. But we wanted to leave the code here.\n",
    "do_grid_search = False\n",
    "if do_grid_search:\n",
    "    # Define the parameter grid\n",
    "    param_grid = {\n",
    "        'C': [0.1, 1, 10],\n",
    "        'gamma': [1e-2, 0.1, 1],\n",
    "        'kernel': ['rbf', 'linear'],\n",
    "        'class_weight': [None, 'balanced']}\n",
    "\n",
    "    # Initialize the SVC model\n",
    "    svc = SVC()\n",
    "    # Perform grid search\n",
    "    grid_search = GridSearchCV(svc, param_grid, cv=5, scoring='accuracy')\n",
    "    grid_search.fit(X_train_tfidf, y_train)\n",
    "\n",
    "    # Get the best parameters\n",
    "    print(\"Best Parameters:\", grid_search.best_params_)\n",
    "    print(\"Best Accuracy:\", grid_search.best_score_)"
   ]
  },
  {
   "cell_type": "code",
   "execution_count": 16,
   "metadata": {},
   "outputs": [],
   "source": [
    "# TODO: Explain we wanted more beautiful functions."
   ]
  },
  {
   "cell_type": "code",
   "execution_count": 17,
   "metadata": {},
   "outputs": [],
   "source": [
    "### TRAINING AND PREDICTING WITH DIFFERENT MODELS (TF-IDF)\n",
    "do_tfidf_training = True\n",
    "if do_tfidf_training:\n",
    "    # Support Vector Machine (SVM)\n",
    "    svm_model_tfidf = SVC(kernel='linear', random_state=42).fit(X_train_tfidf, y_train)\n",
    "    y_pred_svm_tfidf = svm_model_tfidf.predict(X_test_tfidf)\n",
    "    \n",
    "    \"\"\" # Logistic Regression\n",
    "    lr_model_tfidf = LogisticRegression(max_iter=100).fit(X_train_tfidf, y_train)\n",
    "    y_pred_lr_tfidf = lr_model_tfidf.predict(X_test_tfidf)\n",
    "\n",
    "    # Naive Bayes classifier\n",
    "    nb_model_tfidf = MultinomialNB().fit(X_train_tfidf, y_train)\n",
    "    y_pred_nb_tfidf = nb_model_tfidf.predict(X_test_tfidf)\n",
    "\n",
    "    # XGB Classifier\n",
    "    xgb_model_tfidf = XGBClassifier(random_state=42).fit(list(X_train_tfidf), y_train)\n",
    "    y_pred_xgb_tfidf = xgb_model_tfidf.predict(list(X_test_tfidf)) \"\"\""
   ]
  },
  {
   "cell_type": "code",
   "execution_count": 18,
   "metadata": {},
   "outputs": [
    {
     "data": {
      "text/plain": [
       "\" import pickle\\nwith open('svm_model_w2v.pkl', 'wb') as f:\\n    pickle.dump(svm_model, f)\\n\\nwith open('logreg_model_w2v.pkl', 'wb') as f:\\n    pickle.dump(logreg_model, f)\\n\\nwith open('rf_model_w2v.pkl', 'wb') as f:\\n    pickle.dump(rf_model, f)\\n\\nwith open('xgb_model_w2v.pkl', 'wb') as f:\\n    pickle.dump(xgb_model, f) \""
      ]
     },
     "execution_count": 18,
     "metadata": {},
     "output_type": "execute_result"
    }
   ],
   "source": [
    "# Optional: Save models for future use\n",
    "\"\"\" import pickle\n",
    "with open('svm_model_w2v.pkl', 'wb') as f:\n",
    "    pickle.dump(svm_model, f)\n",
    "\n",
    "with open('logreg_model_w2v.pkl', 'wb') as f:\n",
    "    pickle.dump(logreg_model, f)\n",
    "\n",
    "with open('rf_model_w2v.pkl', 'wb') as f:\n",
    "    pickle.dump(rf_model, f)\n",
    "\n",
    "with open('xgb_model_w2v.pkl', 'wb') as f:\n",
    "    pickle.dump(xgb_model, f) \"\"\""
   ]
  },
  {
   "cell_type": "code",
   "execution_count": 20,
   "metadata": {},
   "outputs": [
    {
     "data": {
      "image/png": "[encoded data removed]",
      "text/plain": [
       "<Figure size 400x300 with 2 Axes>"
      ]
     },
     "metadata": {},
     "output_type": "display_data"
    }
   ],
   "source": [
    "# Plot confusion matrix\n",
    "cm = confusion_matrix(y_test, y_pred_svm_tfidf)\n",
    "\n",
    "# Visualize confusion matrix\n",
    "plt.figure(figsize=(4, 3))\n",
    "sns.heatmap(cm, annot=True, fmt='d', cmap='Blues', xticklabels=['Fake', 'Real'], yticklabels=['Fake', 'Real'])\n",
    "plt.xlabel('Predicted')\n",
    "plt.ylabel('Actual')\n",
    "plt.title('Confusion Matrix')\n",
    "plt.show()"
   ]
  },
  {
   "cell_type": "code",
   "execution_count": 21,
   "metadata": {},
   "outputs": [],
   "source": [
    "### EVALUATION (Bag of Words)\n",
    "do_bow_eval = False\n",
    "if do_bow_eval:\n",
    "    print(\"BAG OF WORDS (Clean, Tokenized, Lemmatized, No StopWords removal)\")\n",
    "    \n",
    "    acc_score_svm = accuracy_score(y_test, y_pred_svm_bow)\n",
    "    print(f\"Accuracy Score SVM: {acc_score_svm:.4f}\")\n",
    "    report_svm = classification_report(y_test, y_pred_svm_bow)\n",
    "    #print(\"Classification Report SVM:\\n\", report_svm)\n",
    "    \n",
    "    \"\"\" acc_score_lr = accuracy_score(y_test, y_pred_lr_bow)\n",
    "    print(f\"Accuracy Score Log Regression: {acc_score_lr:.4f}\")\n",
    "    report_lr = classification_report(y_test, y_pred_lr_bow)\n",
    "    #print(\"Classification Report Log Regression:\\n\", report_lr)\n",
    "\n",
    "    acc_score_nb = accuracy_score(y_test, y_pred_nb_bow)\n",
    "    print(f\"Accuracy Score Naive Bayes: {acc_score_nb:.4f}\")\n",
    "    report_nb = classification_report(y_test, y_pred_nb_bow)\n",
    "    #print(\"Classification Report Naive Bayes:\\n\", report_nb)\n",
    "\n",
    "    acc_score_xgb = accuracy_score(y_test, y_pred_xgb_bow)\n",
    "    print(f\"Accuracy Score XGB Classifier: {acc_score_xgb:.4f}\")\n",
    "    report_xgb = classification_report(y_test, y_pred_xgb_bow)\n",
    "    #print(\"Classification Report XGB Classifier:\\n\", report_xgb) \"\"\""
   ]
  },
  {
   "cell_type": "code",
   "execution_count": 22,
   "metadata": {},
   "outputs": [
    {
     "name": "stdout",
     "output_type": "stream",
     "text": [
      "TF-IDF  (Clean, Tokenized, Lemmatized, No StopWords removal)\n",
      "Accuracy Score SVM: 0.9264\n"
     ]
    },
    {
     "data": {
      "text/plain": [
       "' acc_score_lr = accuracy_score(y_test, y_pred_lr_tfidf)\\nprint(f\"Accuracy Score Log Regression: {acc_score_lr:.4f}\")\\nreport_lr = classification_report(y_test, y_pred_lr_tfidf)\\n#print(\"Classification Report Log Regression:\\n\", report_lr)\\n\\nacc_score_nb = accuracy_score(y_test, y_pred_nb_tfidf)\\nprint(f\"Accuracy Score Naive Bayes: {acc_score_nb:.4f}\")\\nreport_nb = classification_report(y_test, y_pred_nb_tfidf)\\n#print(\"Classification Report Naive Bayes:\\n\", report_nb)\\n\\nacc_score_xgb = accuracy_score(y_test, y_pred_xgb_tfidf)\\nprint(f\"Accuracy Score XGB Classifier: {acc_score_xgb:.4f}\")\\nreport_xgb = classification_report(y_test, y_pred_xgb_tfidf)\\n#print(\"Classification Report XGB Classifier:\\n\", report_xgb) '"
      ]
     },
     "execution_count": 22,
     "metadata": {},
     "output_type": "execute_result"
    }
   ],
   "source": [
    "### EVALUATION (TF_IDF)\n",
    "print(\"TF-IDF  (Clean, Tokenized, Lemmatized, No StopWords removal)\")\n",
    "\n",
    "acc_score_svm = accuracy_score(y_test, y_pred_svm_tfidf)\n",
    "print(f\"Accuracy Score SVM: {acc_score_svm:.4f}\")\n",
    "report_svm = classification_report(y_test, y_pred_svm_tfidf)\n",
    "#print(\"Classification Report SVM:\\n\", report_svm)\n",
    "\n",
    "\"\"\" acc_score_lr = accuracy_score(y_test, y_pred_lr_tfidf)\n",
    "print(f\"Accuracy Score Log Regression: {acc_score_lr:.4f}\")\n",
    "report_lr = classification_report(y_test, y_pred_lr_tfidf)\n",
    "#print(\"Classification Report Log Regression:\\n\", report_lr)\n",
    "\n",
    "acc_score_nb = accuracy_score(y_test, y_pred_nb_tfidf)\n",
    "print(f\"Accuracy Score Naive Bayes: {acc_score_nb:.4f}\")\n",
    "report_nb = classification_report(y_test, y_pred_nb_tfidf)\n",
    "#print(\"Classification Report Naive Bayes:\\n\", report_nb)\n",
    "\n",
    "acc_score_xgb = accuracy_score(y_test, y_pred_xgb_tfidf)\n",
    "print(f\"Accuracy Score XGB Classifier: {acc_score_xgb:.4f}\")\n",
    "report_xgb = classification_report(y_test, y_pred_xgb_tfidf)\n",
    "#print(\"Classification Report XGB Classifier:\\n\", report_xgb) \"\"\""
   ]
  },
  {
   "cell_type": "code",
   "execution_count": null,
   "metadata": {},
   "outputs": [],
   "source": [
    "### CROSS-VALIDATION\n",
    "kfold = KFold(n_splits=5, shuffle=True, random_state=42)\n",
    "# Perform cross-validation and compute accuracy for each fold\n",
    "cv_scores = cross_val_score(svm_model_tfidf, X_train_tfidf, y_train, cv=kfold, scoring='accuracy')\n",
    "# Print the average accuracy and standard deviation across folds\n",
    "print(f\"Cross-validated Mean Accuracy: {cv_scores.mean():.4f}\")\n",
    "print(f\"Standard Deviation: {cv_scores.std():.4f}\")"
   ]
  },
  {
   "cell_type": "code",
   "execution_count": 25,
   "metadata": {},
   "outputs": [
    {
     "data": {
      "text/plain": [
       "<Figure size 1000x600 with 0 Axes>"
      ]
     },
     "metadata": {},
     "output_type": "display_data"
    },
    {
     "data": {
      "image/png": "[encoded data removed]",
      "text/plain": [
       "<Figure size 640x480 with 1 Axes>"
      ]
     },
     "metadata": {},
     "output_type": "display_data"
    }
   ],
   "source": [
    "# Initialize a dictionary to hold the accuracy scores for each model and vectorization method\n",
    "model_results = {\n",
    "    'Word2Vec': {\n",
    "        'SVM': 0.8026,\n",
    "        'Logistic Regression': 0.8962,\n",
    "        'Naive Bayes': 0.8390,\n",
    "        'XGB Classifier': 0.8360},\n",
    "    'Bag of Words': {\n",
    "        'SVM': 0.9264,\n",
    "        'Logistic Regression': 0.9259,\n",
    "        'Naive Bayes': 0.9173,\n",
    "        'XGB Classifier': 0.9046},\n",
    "    'TF-IDF': {\n",
    "        'SVM': 0.9264,\n",
    "        'Logistic Regression': 0.9258,\n",
    "        'Naive Bayes': 0.9107,\n",
    "        'XGB Classifier': 0.9041}\n",
    "}\n",
    "\n",
    "# Convert dictionary into a pandas DataFrame\n",
    "results_df = pd.DataFrame(model_results)\n",
    "\n",
    "# Plot the results using seaborn\n",
    "plt.figure(figsize=(10, 6))\n",
    "results_df.plot(kind='bar', rot=0)\n",
    "plt.title('Model Accuracy Comparison')\n",
    "plt.ylabel('Accuracy Score')\n",
    "plt.xlabel('Model')\n",
    "plt.xticks(rotation=45)\n",
    "plt.legend(title='Vectorization Method')\n",
    "plt.ylim([0.8, 1.0])\n",
    "plt.show()"
   ]
  },
  {
   "cell_type": "code",
   "execution_count": 29,
   "metadata": {},
   "outputs": [],
   "source": [
    "# Preprocess validation set to make predictions with the final model\n",
    "real_df = pd.read_csv('testing_data_lowercase_nolabels.csv', sep='\\t', names=['text'])\n",
    "X_val = real_df['text']\n",
    "X_val_clean = X_val.apply(\n",
    "    lambda x: preprocess_text(x,\n",
    "        clean=True,\n",
    "        tokenize=True,\n",
    "        lemmatize=True,\n",
    "        remove_stopwords=False))\n",
    "\n",
    "X_val_final = X_val_clean.apply(lambda tokens: \" \".join(tokens))\n",
    "\n",
    "X_val_tfidf = tfidf_vect.transform(X_val_final).toarray()\n",
    "\n",
    "y_pred_val = svm_model_tfidf.predict(X_val_tfidf)"
   ]
  },
  {
   "cell_type": "code",
   "execution_count": 33,
   "metadata": {},
   "outputs": [],
   "source": [
    "# Creating the CSV file with the predictions to deliver\n",
    "real_df['tag'] = y_pred_val\n",
    "real_df.to_csv('G5.csv', index=False)"
   ]
  }
 ],
 "metadata": {
  "kernelspec": {
   "display_name": "base",
   "language": "python",
   "name": "python3"
  },
  "language_info": {
   "codemirror_mode": {
    "name": "ipython",
    "version": 3
   },
   "file_extension": ".py",
   "mimetype": "text/x-python",
   "name": "python",
   "nbconvert_exporter": "python",
   "pygments_lexer": "ipython3",
   "version": "3.12.4"
  }
 },
 "nbformat": 4,
 "nbformat_minor": 2
}
