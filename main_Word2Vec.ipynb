{
 "cells": [
  {
   "cell_type": "markdown",
   "metadata": {},
   "source": [
    "### Reference Notbooks\n",
    "4. Natural language Processing IV (Section 5.4 thne 5.6)\n",
    "4. NLP Exercise - do with student\n",
    "\n",
    "### Steps to Follow\n",
    "1. Try NaiveBayes classiffier first\n",
    "2. Data Cleaning, lemming, etc\n",
    "3. TFIDF\n",
    "5. Try Random Forest (or K-means with only 2 clases?)"
   ]
  },
  {
   "cell_type": "code",
   "execution_count": 268,
   "metadata": {},
   "outputs": [],
   "source": [
    "# Import necessary libraries\n",
    "import pandas as pd\n",
    "import numpy as np\n",
    "import string\n",
    "import nltk\n",
    "from nltk.tokenize import word_tokenize\n",
    "from nltk.corpus import stopwords, wordnet\n",
    "from nltk.stem import WordNetLemmatizer\n",
    "from sklearn.feature_extraction.text import TfidfVectorizer, CountVectorizer\n",
    "from sklearn.model_selection import train_test_split\n",
    "\n",
    "from xgboost import XGBClassifier\n",
    "from sklearn.linear_model import LogisticRegression\n",
    "\n",
    "from gensim.models import Word2Vec\n",
    "import matplotlib.pyplot as plt\n",
    "import seaborn as sns\n",
    "from tabulate import tabulate as tb\n",
    "from sklearn.metrics import classification_report, confusion_matrix, accuracy_score"
   ]
  },
  {
   "cell_type": "code",
   "execution_count": 269,
   "metadata": {},
   "outputs": [
    {
     "data": {
      "text/html": [
       "<div>\n",
       "<style scoped>\n",
       "    .dataframe tbody tr th:only-of-type {\n",
       "        vertical-align: middle;\n",
       "    }\n",
       "\n",
       "    .dataframe tbody tr th {\n",
       "        vertical-align: top;\n",
       "    }\n",
       "\n",
       "    .dataframe thead th {\n",
       "        text-align: right;\n",
       "    }\n",
       "</style>\n",
       "<table border=\"1\" class=\"dataframe\">\n",
       "  <thead>\n",
       "    <tr style=\"text-align: right;\">\n",
       "      <th></th>\n",
       "      <th>tag</th>\n",
       "      <th>text</th>\n",
       "    </tr>\n",
       "  </thead>\n",
       "  <tbody>\n",
       "    <tr>\n",
       "      <th>0</th>\n",
       "      <td>0</td>\n",
       "      <td>donald trump sends out embarrassing new year‚s...</td>\n",
       "    </tr>\n",
       "    <tr>\n",
       "      <th>1</th>\n",
       "      <td>0</td>\n",
       "      <td>drunk bragging trump staffer started russian c...</td>\n",
       "    </tr>\n",
       "    <tr>\n",
       "      <th>2</th>\n",
       "      <td>0</td>\n",
       "      <td>sheriff david clarke becomes an internet joke ...</td>\n",
       "    </tr>\n",
       "    <tr>\n",
       "      <th>3</th>\n",
       "      <td>0</td>\n",
       "      <td>trump is so obsessed he even has obama‚s name ...</td>\n",
       "    </tr>\n",
       "    <tr>\n",
       "      <th>4</th>\n",
       "      <td>0</td>\n",
       "      <td>pope francis just called out donald trump duri...</td>\n",
       "    </tr>\n",
       "    <tr>\n",
       "      <th>5</th>\n",
       "      <td>0</td>\n",
       "      <td>racist alabama cops brutalize black boy while ...</td>\n",
       "    </tr>\n",
       "    <tr>\n",
       "      <th>6</th>\n",
       "      <td>0</td>\n",
       "      <td>fresh off the golf course</td>\n",
       "    </tr>\n",
       "    <tr>\n",
       "      <th>7</th>\n",
       "      <td>0</td>\n",
       "      <td>trump said some insanely racist stuff inside t...</td>\n",
       "    </tr>\n",
       "    <tr>\n",
       "      <th>8</th>\n",
       "      <td>0</td>\n",
       "      <td>former cia director slams trump over un bullying</td>\n",
       "    </tr>\n",
       "    <tr>\n",
       "      <th>9</th>\n",
       "      <td>0</td>\n",
       "      <td>brand-new pro-trump ad features so much a** ki...</td>\n",
       "    </tr>\n",
       "  </tbody>\n",
       "</table>\n",
       "</div>"
      ],
      "text/plain": [
       "   tag                                               text\n",
       "0    0  donald trump sends out embarrassing new year‚s...\n",
       "1    0  drunk bragging trump staffer started russian c...\n",
       "2    0  sheriff david clarke becomes an internet joke ...\n",
       "3    0  trump is so obsessed he even has obama‚s name ...\n",
       "4    0  pope francis just called out donald trump duri...\n",
       "5    0  racist alabama cops brutalize black boy while ...\n",
       "6    0                          fresh off the golf course\n",
       "7    0  trump said some insanely racist stuff inside t...\n",
       "8    0   former cia director slams trump over un bullying\n",
       "9    0  brand-new pro-trump ad features so much a** ki..."
      ]
     },
     "execution_count": 269,
     "metadata": {},
     "output_type": "execute_result"
    }
   ],
   "source": [
    "# Importing the Training Data file\n",
    "df = pd.read_csv('training_data_lowercase.csv', sep='\\t', names=['tag', 'text'])\n",
    "df.head(10)"
   ]
  },
  {
   "cell_type": "code",
   "execution_count": 270,
   "metadata": {},
   "outputs": [],
   "source": [
    "#Defining target and features\n",
    "X = df['text']\n",
    "y = df['tag']\n",
    "\n",
    "# Splitting the dataset\n",
    "X_train, X_test, y_train, y_test = train_test_split(X, y, test_size=0.2, random_state=42)"
   ]
  },
  {
   "cell_type": "code",
   "execution_count": 271,
   "metadata": {},
   "outputs": [
    {
     "data": {
      "text/plain": [
       "8891                                                  [so]\n",
       "25115    [final, reckoning, approaches, for, obama, hig...\n",
       "26933    [illinois, budget, talks, fizzle, amid, partis...\n",
       "26971    [clinton, spokesman, ig, report, shows, no, cl...\n",
       "11387    [busted, nancy, pelosi, claims, no, meeting, w...\n",
       "9948     [heartwarming, hugs, and, kisses, from, potus,...\n",
       "14165    [hillary, battle, plan, use, her, sex, offende...\n",
       "14712    [radical, ny, attorney, general, cracking, dow...\n",
       "11974                   [obama, blames, russia, for, loss]\n",
       "30066    [factbox, one, planet, summit, turns, to, priv...\n",
       "Name: text, dtype: object"
      ]
     },
     "execution_count": 271,
     "metadata": {},
     "output_type": "execute_result"
    }
   ],
   "source": [
    "### CLEAN AND TOKENIZE DATA\n",
    "def clean_tokenize(phrase):\n",
    "    return [word.lower() for word in word_tokenize(phrase) if word.isalpha()]\n",
    "\n",
    "X_train_clean = X_train.apply(clean_tokenize)\n",
    "X_test_clean = X_test.apply(clean_tokenize)\n",
    "\n",
    "X_train_clean.head(10)"
   ]
  },
  {
   "cell_type": "code",
   "execution_count": 272,
   "metadata": {},
   "outputs": [
    {
     "name": "stdout",
     "output_type": "stream",
     "text": [
      "Word        Similarity\n",
      "--------  ------------\n",
      "reporter      0.984846\n",
      "bad           0.984718\n",
      "hannity       0.982909\n",
      "cnn           0.982177\n",
      "wow           0.98155\n",
      "caught        0.981274\n",
      "liberal       0.980333\n",
      "during        0.978978\n",
      "down          0.978936\n",
      "shut          0.978459\n"
     ]
    }
   ],
   "source": [
    "# Train the Word2Vec model\n",
    "w2v_model = Word2Vec(sentences=X_train_clean, vector_size=100, window=15, min_count=5, workers=4)\n",
    "\n",
    "print(tb(w2v_model.wv.most_similar('fake'), headers=['Word', 'Similarity']))"
   ]
  },
  {
   "cell_type": "code",
   "execution_count": 273,
   "metadata": {},
   "outputs": [],
   "source": [
    "def get_sentence_vector(sentence, model):\n",
    "    vectors = [model.wv[word] for word in sentence if word in model.wv]\n",
    "    return np.mean(vectors, axis=0) if vectors else np.zeros(100)\n",
    "\n",
    "X_train_vect = X_train_clean.apply(lambda sentence: get_sentence_vector(sentence, w2v_model))\n",
    "X_test_vect = X_test_clean.apply(lambda sentence: get_sentence_vector(sentence, w2v_model))"
   ]
  },
  {
   "cell_type": "code",
   "execution_count": 274,
   "metadata": {},
   "outputs": [
    {
     "data": {
      "text/plain": [
       "' def get_wordnet_pos(word):\\n    tag = nltk.pos_tag([word])[0][1][0].upper()\\n    tag_dict = {\"J\": wordnet.ADJ,\\n                \"N\": wordnet.NOUN,\\n                \"V\": wordnet.VERB,\\n                \"R\": wordnet.ADV}\\n    return tag_dict.get(tag, wordnet.NOUN)\\n\\n# Initialize the lemmatizer\\nlemmatizer = WordNetLemmatizer()\\n\\n# Define a function to lemmatize a sentence or text\\ndef lemmatize_text(words):\\n    return [lemmatizer.lemmatize(word, get_wordnet_pos(word)) for word in words]\\n\\nX_train_lm = X_train_clean.apply(lemmatize_text)\\nX_test_lm = X_test_clean.apply(lemmatize_text) '"
      ]
     },
     "execution_count": 274,
     "metadata": {},
     "output_type": "execute_result"
    }
   ],
   "source": [
    "### Lemmatization\n",
    "\"\"\" def get_wordnet_pos(word):\n",
    "    tag = nltk.pos_tag([word])[0][1][0].upper()\n",
    "    tag_dict = {\"J\": wordnet.ADJ,\n",
    "                \"N\": wordnet.NOUN,\n",
    "                \"V\": wordnet.VERB,\n",
    "                \"R\": wordnet.ADV}\n",
    "    return tag_dict.get(tag, wordnet.NOUN)\n",
    "\n",
    "# Initialize the lemmatizer\n",
    "lemmatizer = WordNetLemmatizer()\n",
    "\n",
    "# Define a function to lemmatize a sentence or text\n",
    "def lemmatize_text(words):\n",
    "    return [lemmatizer.lemmatize(word, get_wordnet_pos(word)) for word in words]\n",
    "\n",
    "X_train_lm = X_train_clean.apply(lemmatize_text)\n",
    "X_test_lm = X_test_clean.apply(lemmatize_text) \"\"\""
   ]
  },
  {
   "cell_type": "code",
   "execution_count": 275,
   "metadata": {},
   "outputs": [
    {
     "data": {
      "text/plain": [
       "\" def remove_stopwords(words):\\n    stop_words = set(stopwords.words('english'))\\n    return [word for word in words if word not in stop_words]\\n\\nX_train_sw = X_train_lm.apply(remove_stopwords)\\nX_test_sw = X_test_lm.apply(remove_stopwords) \""
      ]
     },
     "execution_count": 275,
     "metadata": {},
     "output_type": "execute_result"
    }
   ],
   "source": [
    "# Remove stopwords\n",
    "\"\"\" def remove_stopwords(words):\n",
    "    stop_words = set(stopwords.words('english'))\n",
    "    return [word for word in words if word not in stop_words]\n",
    "\n",
    "X_train_sw = X_train_lm.apply(remove_stopwords)\n",
    "X_test_sw = X_test_lm.apply(remove_stopwords) \"\"\""
   ]
  },
  {
   "cell_type": "code",
   "execution_count": 276,
   "metadata": {},
   "outputs": [
    {
     "data": {
      "text/plain": [
       "' X_train_final = X_train_sw.apply(lambda row: \" \".join(row))\\nX_test_final = X_test_sw.apply(lambda row: \" \".join(row)) '"
      ]
     },
     "execution_count": 276,
     "metadata": {},
     "output_type": "execute_result"
    }
   ],
   "source": [
    "# Recompose the phrases\n",
    "\"\"\" X_train_final = X_train_sw.apply(lambda row: \" \".join(row))\n",
    "X_test_final = X_test_sw.apply(lambda row: \" \".join(row)) \"\"\""
   ]
  },
  {
   "cell_type": "code",
   "execution_count": 277,
   "metadata": {},
   "outputs": [
    {
     "data": {
      "text/plain": [
       "' bow_vect = CountVectorizer(max_features=1000)\\n\\n# fit creates one entry for each different word seen\\nX_train_vect = bow_vect.fit_transform(X_train_final).toarray()\\nX_test_vect = bow_vect.transform(X_test_final).toarray() '"
      ]
     },
     "execution_count": 277,
     "metadata": {},
     "output_type": "execute_result"
    }
   ],
   "source": [
    "## Vectorization\n",
    "\"\"\" bow_vect = CountVectorizer(max_features=1000)\n",
    "\n",
    "# fit creates one entry for each different word seen\n",
    "X_train_vect = bow_vect.fit_transform(X_train_final).toarray()\n",
    "X_test_vect = bow_vect.transform(X_test_final).toarray() \"\"\""
   ]
  },
  {
   "cell_type": "code",
   "execution_count": 278,
   "metadata": {},
   "outputs": [],
   "source": [
    "### Logistic Regression\n",
    "lr_model = LogisticRegression().fit(list(X_train_vect), y_train)\n",
    "## Predict for the Test Dataset\n",
    "y_pred = lr_model.predict(list(X_test_vect))"
   ]
  },
  {
   "cell_type": "code",
   "execution_count": 279,
   "metadata": {},
   "outputs": [
    {
     "data": {
      "text/plain": [
       "' xgb_model = XGBClassifier().fit(list(X_train_vect), y_train)\\n## Predict for the Test Dataset\\ny_pred = xgb_model.predict(list(X_test_vect)) '"
      ]
     },
     "execution_count": 279,
     "metadata": {},
     "output_type": "execute_result"
    }
   ],
   "source": [
    "### XGB Classifier\n",
    "\"\"\" xgb_model = XGBClassifier().fit(list(X_train_vect), y_train)\n",
    "## Predict for the Test Dataset\n",
    "y_pred = xgb_model.predict(list(X_test_vect)) \"\"\""
   ]
  },
  {
   "cell_type": "code",
   "execution_count": 280,
   "metadata": {},
   "outputs": [
    {
     "data": {
      "image/png": "[encoded data removed]",
      "text/plain": [
       "<Figure size 400x300 with 2 Axes>"
      ]
     },
     "metadata": {},
     "output_type": "display_data"
    },
    {
     "name": "stdout",
     "output_type": "stream",
     "text": [
      "Classification Report:\n",
      "               precision    recall  f1-score   support\n",
      "\n",
      "           0       0.90      0.90      0.90      3529\n",
      "           1       0.89      0.89      0.89      3302\n",
      "\n",
      "    accuracy                           0.90      6831\n",
      "   macro avg       0.90      0.90      0.90      6831\n",
      "weighted avg       0.90      0.90      0.90      6831\n",
      "\n",
      "Accuracy Score: 0.8962\n"
     ]
    }
   ],
   "source": [
    "# Get confusion matrix\n",
    "cm = confusion_matrix(y_test, y_pred)\n",
    "\n",
    "# Visualize confusion matrix\n",
    "plt.figure(figsize=(4, 3))\n",
    "sns.heatmap(cm, annot=True, fmt='d', cmap='Blues', xticklabels=['Fake', 'Real'], yticklabels=['Fake', 'Real'])\n",
    "plt.xlabel('Predicted')\n",
    "plt.ylabel('Actual')\n",
    "plt.title('Confusion Matrix')\n",
    "plt.show()\n",
    "\n",
    "# Generate classification report\n",
    "report = classification_report(y_test, y_pred)\n",
    "print(\"Classification Report:\\n\", report)\n",
    "\n",
    "acc_score = accuracy_score(y_test, y_pred)\n",
    "print(f\"Accuracy Score: {acc_score:.4f}\")"
   ]
  }
 ],
 "metadata": {
  "kernelspec": {
   "display_name": "base",
   "language": "python",
   "name": "python3"
  },
  "language_info": {
   "codemirror_mode": {
    "name": "ipython",
    "version": 3
   },
   "file_extension": ".py",
   "mimetype": "text/x-python",
   "name": "python",
   "nbconvert_exporter": "python",
   "pygments_lexer": "ipython3",
   "version": "3.12.4"
  }
 },
 "nbformat": 4,
 "nbformat_minor": 2
}
