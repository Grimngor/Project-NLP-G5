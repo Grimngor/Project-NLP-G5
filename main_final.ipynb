{
 "cells": [
  {
   "cell_type": "markdown",
   "metadata": {},
   "source": [
    "### Reference Notbooks\n",
    "4. Natural language Processing IV (Section 5.4 thne 5.6)\n",
    "4. NLP Exercise - do with student\n",
    "\n",
    "### Steps to Follow\n",
    "1. Try NaiveBayes classiffier first\n",
    "2. Data Cleaning, lemming, etc\n",
    "3. TFIDF\n",
    "5. Try Random Forest (or K-means with only 2 clases?)"
   ]
  },
  {
   "cell_type": "code",
   "execution_count": 26,
   "metadata": {},
   "outputs": [],
   "source": [
    "# Import necessary libraries\n",
    "import pandas as pd\n",
    "import string\n",
    "import nltk\n",
    "from nltk.tokenize import word_tokenize\n",
    "from nltk.corpus import stopwords, wordnet\n",
    "from nltk.stem import WordNetLemmatizer\n",
    "from sklearn.feature_extraction.text import TfidfVectorizer, CountVectorizer\n",
    "from sklearn.model_selection import train_test_split, cross_val_score, KFold\n",
    "from sklearn.svm import SVC\n",
    "from xgboost import XGBClassifier\n",
    "from sklearn.linear_model import LogisticRegression\n",
    "from sklearn.naive_bayes import MultinomialNB\n",
    "from sklearn.metrics import classification_report, confusion_matrix, accuracy_score\n",
    "from sklearn.datasets import make_classification\n",
    "import matplotlib.pyplot as plt\n",
    "import seaborn as sns"
   ]
  },
  {
   "cell_type": "code",
   "execution_count": 27,
   "metadata": {},
   "outputs": [],
   "source": [
    "# Importing the Training Data file\n",
    "df= pd.read_csv('training_data_lowercase.csv', sep='\\t', names=['tag', 'text'])\n",
    "\n",
    "#Defining target and features\n",
    "X = df['text']\n",
    "y = df['tag']\n",
    "\n",
    "# Splitting the dataset\n",
    "X_train, X_test, y_train, y_test = train_test_split(X, y, test_size=0.2, random_state=42)"
   ]
  },
  {
   "cell_type": "code",
   "execution_count": 28,
   "metadata": {},
   "outputs": [],
   "source": [
    "### Initialize resources and define Functions\n",
    "lemmatizer = WordNetLemmatizer()\n",
    "stop_words = set(stopwords.words('english'))\n",
    "\n",
    "# Function to get the correct WordNet POS tag\n",
    "def get_wordnet_pos(word):\n",
    "    tag = nltk.pos_tag([word])[0][1][0].upper()\n",
    "    tag_dict = {\"J\": wordnet.ADJ,  # Adjectives\n",
    "                \"N\": wordnet.NOUN,  # Nouns\n",
    "                \"V\": wordnet.VERB,  # Verbs\n",
    "                \"R\": wordnet.ADV}   # Adverbs\n",
    "    return tag_dict.get(tag, wordnet.NOUN)  # Default to noun if POS not found\n",
    "\n",
    "# Function to lemmatize tokens with POS tags\n",
    "def lemmatize_text(tokens):\n",
    "    return [lemmatizer.lemmatize(word, get_wordnet_pos(word)) for word in tokens]\n",
    "\n",
    "# Function for flexible preprocessing\n",
    "def preprocess_text(text, clean=True, tokenize=True, lemmatize=True, remove_stopwords=True):\n",
    "    # Step 1: Basic Cleaning (lowercasing and removing non-alphabetic characters)\n",
    "    if clean:\n",
    "        text = ' '.join([word.lower() for word in word_tokenize(text) if word.isalpha()])  # Join words with spaces\n",
    "\n",
    "    # Step 2: Tokenization\n",
    "    if tokenize:\n",
    "        text = word_tokenize(text)\n",
    "    else:\n",
    "        text = text.split()  # Split into words even if not tokenizing with NLTK\n",
    "\n",
    "    # Step 3: Stopword Removal\n",
    "    if remove_stopwords:\n",
    "        text = [word for word in text if word not in stop_words]\n",
    "\n",
    "    # Step 4: Lemmatization with POS tagging\n",
    "    if lemmatize:\n",
    "        text = lemmatize_text(text)\n",
    "\n",
    "    # Return processed text\n",
    "    return text"
   ]
  },
  {
   "cell_type": "code",
   "execution_count": 29,
   "metadata": {},
   "outputs": [],
   "source": [
    "# Preprocess training and test sets\n",
    "X_train_clean = X_train.apply(lambda x: preprocess_text(x,\n",
    "                                                        clean=True,\n",
    "                                                        tokenize=True,\n",
    "                                                        lemmatize=True,\n",
    "                                                        remove_stopwords=False))\n",
    "X_test_clean = X_test.apply(lambda x: preprocess_text(x,\n",
    "                                                      clean=True,\n",
    "                                                      tokenize=True,\n",
    "                                                      lemmatize=True,\n",
    "                                                      remove_stopwords=False))"
   ]
  },
  {
   "cell_type": "code",
   "execution_count": 30,
   "metadata": {},
   "outputs": [],
   "source": [
    "# Join the tokens back into strings for vectorization\n",
    "X_train_final = X_train_clean.apply(lambda tokens: \" \".join(tokens))\n",
    "X_test_final = X_test_clean.apply(lambda tokens: \" \".join(tokens))"
   ]
  },
  {
   "cell_type": "code",
   "execution_count": 31,
   "metadata": {},
   "outputs": [
    {
     "data": {
      "text/plain": [
       "8891                                                  [so]\n",
       "25115    [final, reckoning, approaches, for, obama's, h...\n",
       "26933    [illinois, budget, talks, fizzle, amid, partis...\n",
       "26971    [clinton, spokesman:, ig, report, shows, no, c...\n",
       "11387    [busted!, nancy, pelosi, claims, no, meeting, ...\n",
       "                               ...                        \n",
       "16850                  [senate, passes, usa, freedom, act]\n",
       "6265     [oklahoma, republicans, are, trying, to, impea...\n",
       "11284    [texas, congressman, lets, screaming, leftist,...\n",
       "860      [trump, stole, an, idea, from, north, korean, ...\n",
       "15795    [outrageous!, nancy, pelosi, claims, obamacare...\n",
       "Name: text, Length: 27321, dtype: object"
      ]
     },
     "execution_count": 31,
     "metadata": {},
     "output_type": "execute_result"
    }
   ],
   "source": [
    "X_train_clean"
   ]
  },
  {
   "cell_type": "code",
   "execution_count": 32,
   "metadata": {},
   "outputs": [
    {
     "data": {
      "text/plain": [
       "8891                                                    so\n",
       "25115    final reckoning approaches for obama's high co...\n",
       "26933    illinois budget talks fizzle amid partisan ent...\n",
       "26971    clinton spokesman: ig report shows no clinton ...\n",
       "11387    busted! nancy pelosi claims no meeting with ru...\n",
       "                               ...                        \n",
       "16850                        senate passes usa freedom act\n",
       "6265     oklahoma republicans are trying to impeach oba...\n",
       "11284    texas congressman lets screaming leftist agita...\n",
       "860      trump stole an idea from north korean propagan...\n",
       "15795    outrageous! nancy pelosi claims obamacare hono...\n",
       "Name: text, Length: 27321, dtype: object"
      ]
     },
     "execution_count": 32,
     "metadata": {},
     "output_type": "execute_result"
    }
   ],
   "source": [
    "X_train_final"
   ]
  },
  {
   "cell_type": "code",
   "execution_count": 33,
   "metadata": {},
   "outputs": [],
   "source": [
    "### VECTORIZATION\n",
    "# Vectorization using Bag of Words\n",
    "bow_vect = CountVectorizer(max_features=1000)\n",
    "\n",
    "# Fit and transform the training data, transform the test data\n",
    "X_train_vect = bow_vect.fit_transform(X_train_final).toarray()\n",
    "X_test_vect = bow_vect.transform(X_test_final).toarray()\n",
    "\n",
    "# TF-IDF Vectorization\n",
    "tfidf_vect = TfidfVectorizer(max_features=1000, ngram_range=(1,2))\n",
    "\n",
    "# Fit and transform the training data, transform the test data\n",
    "X_train_tfidf = tfidf_vect.fit_transform(X_train_final).toarray()\n",
    "X_test_tfidf = tfidf_vect.transform(X_test_final).toarray()"
   ]
  },
  {
   "cell_type": "code",
   "execution_count": null,
   "metadata": {},
   "outputs": [],
   "source": [
    "# TODO: Explain we wanted more beautiful functions."
   ]
  },
  {
   "cell_type": "code",
   "execution_count": 34,
   "metadata": {},
   "outputs": [],
   "source": [
    "### TRAINING AND PREDICTING WITH DIFFERENT MODELS (bag of words)\n",
    "\n",
    "# Logistic Regression\n",
    "lr_model_bow = LogisticRegression(max_iter=1000).fit(X_train_vect, y_train)\n",
    "y_pred_lr_bow = lr_model_bow.predict(X_test_vect)\n",
    "\n",
    "# Support Vector Machine (SVM)\n",
    "svm_model_bow = SVC(kernel='linear', random_state=42).fit(X_train_vect, y_train)\n",
    "y_pred_svm_bow = svm_model_bow.predict(X_test_vect)\n",
    "\n",
    "# Naive Bayes classifier\n",
    "nb_model_bow = MultinomialNB().fit(X_train_vect, y_train)\n",
    "y_pred_nb_bow = nb_model_bow.predict(X_test_vect)\n",
    "\n",
    "# XGB Classifier\n",
    "xgb_model_bow = XGBClassifier(random_state=42).fit(list(X_train_vect), y_train)\n",
    "y_pred_xgb_bow = xgb_model_bow.predict(list(X_test_vect))"
   ]
  },
  {
   "cell_type": "code",
   "execution_count": 35,
   "metadata": {},
   "outputs": [],
   "source": [
    "### TRAINING AND PREDICTING WITH DIFFERENT MODELS (TF-IDF)\n",
    "\n",
    "# Logistic Regression\n",
    "lr_model_tfidf = LogisticRegression(max_iter=1000).fit(X_train_tfidf, y_train)\n",
    "y_pred_lr_tfidf = lr_model_tfidf.predict(X_test_tfidf)\n",
    "\n",
    "# Support Vector Machine (SVM)\n",
    "svm_model_tfidf = SVC(kernel='linear', random_state=42).fit(X_train_tfidf, y_train)\n",
    "y_pred_svm_tfidf = svm_model_tfidf.predict(X_test_tfidf)\n",
    "\n",
    "# Naive Bayes classifier\n",
    "nb_model_tfidf = MultinomialNB().fit(X_train_tfidf, y_train)\n",
    "y_pred_nb_tfidf = nb_model_tfidf.predict(X_test_tfidf)\n",
    "\n",
    "# XGB Classifier\n",
    "xgb_model_tfidf = XGBClassifier(random_state=42).fit(list(X_train_tfidf), y_train)\n",
    "y_pred_xgb_tfidf = xgb_model_tfidf.predict(list(X_test_tfidf))"
   ]
  },
  {
   "cell_type": "code",
   "execution_count": null,
   "metadata": {},
   "outputs": [],
   "source": [
    "# Optional: Save models for future use\n",
    "\"\"\" import pickle\n",
    "with open('svm_model_w2v.pkl', 'wb') as f:\n",
    "    pickle.dump(svm_model, f)\n",
    "\n",
    "with open('logreg_model_w2v.pkl', 'wb') as f:\n",
    "    pickle.dump(logreg_model, f)\n",
    "\n",
    "with open('rf_model_w2v.pkl', 'wb') as f:\n",
    "    pickle.dump(rf_model, f)\n",
    "\n",
    "with open('xgb_model_w2v.pkl', 'wb') as f:\n",
    "    pickle.dump(xgb_model, f) \"\"\""
   ]
  },
  {
   "cell_type": "code",
   "execution_count": null,
   "metadata": {},
   "outputs": [],
   "source": [
    "# Plot confusion matrix\n",
    "cm = confusion_matrix(y_test, y_pred)\n",
    "\n",
    "# Visualize confusion matrix\n",
    "plt.figure(figsize=(4, 3))\n",
    "sns.heatmap(cm, annot=True, fmt='d', cmap='Blues', xticklabels=['Fake', 'Real'], yticklabels=['Fake', 'Real'])\n",
    "plt.xlabel('Predicted')\n",
    "plt.ylabel('Actual')\n",
    "plt.title('Confusion Matrix')\n",
    "plt.show()"
   ]
  },
  {
   "cell_type": "code",
   "execution_count": 11,
   "metadata": {},
   "outputs": [
    {
     "name": "stdout",
     "output_type": "stream",
     "text": [
      "Cross-validated Mean Accuracy: 0.9029\n",
      "Standard Deviation: 0.0046\n"
     ]
    }
   ],
   "source": [
    "# Define 5-fold cross-validation\n",
    "kfold = KFold(n_splits=5, shuffle=True, random_state=42)\n",
    "# Perform cross-validation and compute accuracy for each fold\n",
    "cv_scores = cross_val_score(nb_model_tfidf, X_train_tfidf, y_train, cv=kfold, scoring='accuracy')\n",
    "# Print the average accuracy and standard deviation across folds\n",
    "print(f\"Cross-validated Mean Accuracy: {cv_scores.mean():.4f}\")\n",
    "print(f\"Standard Deviation: {cv_scores.std():.4f}\")"
   ]
  },
  {
   "cell_type": "code",
   "execution_count": 38,
   "metadata": {},
   "outputs": [
    {
     "name": "stdout",
     "output_type": "stream",
     "text": [
      "BAG OF WORDS (No Clean, No Tokenized, No Lemmatized, No StopWords removal)\n",
      "Accuracy Score Log Regression: 0.9268\n",
      "Accuracy Score SVM: 0.9250\n",
      "Accuracy Score Naive Bayes: 0.9179\n",
      "Accuracy Score XGB Classifier: 0.9084\n"
     ]
    }
   ],
   "source": [
    "### EVALUATION (Bag of Words)\n",
    "print(\"BAG OF WORDS (No Clean, No Tokenized, No Lemmatized, No StopWords removal)\"),\n",
    "acc_score_lr = accuracy_score(y_test, y_pred_lr_bow)\n",
    "print(f\"Accuracy Score Log Regression: {acc_score_lr:.4f}\")\n",
    "report_lr = classification_report(y_test, y_pred_lr_bow)\n",
    "#print(\"Classification Report Log Regression:\\n\", report_lr)\n",
    "\n",
    "acc_score_svm = accuracy_score(y_test, y_pred_svm_bow)\n",
    "print(f\"Accuracy Score SVM: {acc_score_svm:.4f}\")\n",
    "report_svm = classification_report(y_test, y_pred_svm_bow)\n",
    "#print(\"Classification Report SVM:\\n\", report_svm)\n",
    "\n",
    "acc_score_nb = accuracy_score(y_test, y_pred_nb_bow)\n",
    "print(f\"Accuracy Score Naive Bayes: {acc_score_nb:.4f}\")\n",
    "report_nb = classification_report(y_test, y_pred_nb_bow)\n",
    "#print(\"Classification Report Naive Bayes:\\n\", report_nb)\n",
    "\n",
    "acc_score_xgb = accuracy_score(y_test, y_pred_xgb_bow)\n",
    "print(f\"Accuracy Score XGB Classifier: {acc_score_xgb:.4f}\")\n",
    "report_xgb = classification_report(y_test, y_pred_xgb_bow)\n",
    "#print(\"Classification Report XGB Classifier:\\n\", report_xgb)"
   ]
  },
  {
   "cell_type": "code",
   "execution_count": 39,
   "metadata": {},
   "outputs": [
    {
     "name": "stdout",
     "output_type": "stream",
     "text": [
      "TF-IDF  (No Clean, No Tokenized, No Lemmatized, No StopWords removal)\n",
      "Accuracy Score Log Regression: 0.9248\n",
      "Accuracy Score SVM: 0.9256\n",
      "Accuracy Score Naive Bayes: 0.9091\n",
      "Accuracy Score XGB Classifier: 0.9070\n"
     ]
    }
   ],
   "source": [
    "### EVALUATION (TF_IDF)\n",
    "print(\"TF-IDF  (No Clean, No Tokenized, No Lemmatized, No StopWords removal)\")\n",
    "acc_score_lr = accuracy_score(y_test, y_pred_lr_tfidf)\n",
    "print(f\"Accuracy Score Log Regression: {acc_score_lr:.4f}\")\n",
    "report_lr = classification_report(y_test, y_pred_lr_tfidf)\n",
    "#print(\"Classification Report Log Regression:\\n\", report_lr)\n",
    "\n",
    "acc_score_svm = accuracy_score(y_test, y_pred_svm_tfidf)\n",
    "print(f\"Accuracy Score SVM: {acc_score_svm:.4f}\")\n",
    "report_svm = classification_report(y_test, y_pred_svm_tfidf)\n",
    "#print(\"Classification Report SVM:\\n\", report_svm)\n",
    "\n",
    "acc_score_nb = accuracy_score(y_test, y_pred_nb_tfidf)\n",
    "print(f\"Accuracy Score Naive Bayes: {acc_score_nb:.4f}\")\n",
    "report_nb = classification_report(y_test, y_pred_nb_tfidf)\n",
    "#print(\"Classification Report Naive Bayes:\\n\", report_nb)\n",
    "\n",
    "acc_score_xgb = accuracy_score(y_test, y_pred_xgb_tfidf)\n",
    "print(f\"Accuracy Score XGB Classifier: {acc_score_xgb:.4f}\")\n",
    "report_xgb = classification_report(y_test, y_pred_xgb_tfidf)\n",
    "#print(\"Classification Report XGB Classifier:\\n\", report_xgb)"
   ]
  },
  {
   "cell_type": "code",
   "execution_count": null,
   "metadata": {},
   "outputs": [],
   "source": [
    "# TODO:  Dicctionaries of Models -> Dataframe -> Plots\n",
    "\n",
    "dict_models = {\n",
    "    'Logistic Regression': {\n",
    "        Accuracy Score BoW: acc_score_lr,\n",
    "        Report BoW: acc_score_lr,\n",
    "        Accuracy Score TF-IDF: report_lr,\n",
    "        Report TF-IDF: report_lr}\n",
    "    'SVM': report_svm,\n",
    "    'Naive Bayes': report_nb,\n",
    "    'XGB Classifier': report_xgb\n",
    "}\n",
    "\n",
    "df_models = pd.DataFrame.from_dict(dict_models, orient='index', columns=['Classification Report'])\n",
    "df_models"
   ]
  },
  {
   "cell_type": "code",
   "execution_count": 40,
   "metadata": {},
   "outputs": [
    {
     "name": "stdout",
     "output_type": "stream",
     "text": [
      "                     Bag of Words  TF-IDF\n",
      "Logistic Regression        0.9259  0.9258\n",
      "SVM                        0.9264  0.9264\n",
      "Naive Bayes                0.9173  0.9107\n",
      "XGB Classifier             0.9046  0.9041\n"
     ]
    },
    {
     "data": {
      "text/plain": [
       "<Figure size 1000x600 with 0 Axes>"
      ]
     },
     "metadata": {},
     "output_type": "display_data"
    },
    {
     "data": {
      "image/png": "[encoded data removed]",
      "text/plain": [
       "<Figure size 640x480 with 1 Axes>"
      ]
     },
     "metadata": {},
     "output_type": "display_data"
    }
   ],
   "source": [
    "# Initialize a dictionary to hold the accuracy scores for each model and vectorization method\n",
    "model_results = {\n",
    "    'Bag of Words': {\n",
    "        'Logistic Regression': 0.9259,\n",
    "        'SVM': 0.9264,\n",
    "        'Naive Bayes': 0.9173,\n",
    "        'XGB Classifier': 0.9046\n",
    "    },\n",
    "    'TF-IDF': {\n",
    "        'Logistic Regression': 0.9258,  # Update these with TF-IDF scores\n",
    "        'SVM': 0.9264,\n",
    "        'Naive Bayes': 0.9107,\n",
    "        'XGB Classifier': 0.9041\n",
    "    }\n",
    "}\n",
    "\n",
    "# Convert dictionary into a pandas DataFrame\n",
    "results_df = pd.DataFrame(model_results)\n",
    "# View the DataFrame\n",
    "print(results_df)\n",
    "\n",
    "# Plot the results using seaborn\n",
    "plt.figure(figsize=(10, 6))\n",
    "results_df.plot(kind='bar', rot=0)\n",
    "plt.title('Model Accuracy Comparison')\n",
    "plt.ylabel('Accuracy Score')\n",
    "plt.xlabel('Model')\n",
    "plt.xticks(rotation=45)\n",
    "plt.legend(title='Vectorization Method')\n",
    "plt.show()"
   ]
  }
 ],
 "metadata": {
  "kernelspec": {
   "display_name": "base",
   "language": "python",
   "name": "python3"
  },
  "language_info": {
   "codemirror_mode": {
    "name": "ipython",
    "version": 3
   },
   "file_extension": ".py",
   "mimetype": "text/x-python",
   "name": "python",
   "nbconvert_exporter": "python",
   "pygments_lexer": "ipython3",
   "version": "3.12.4"
  }
 },
 "nbformat": 4,
 "nbformat_minor": 2
}
